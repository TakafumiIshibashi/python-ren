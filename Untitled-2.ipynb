{
    "cells": [
        {
            "cell_type": "code",
            "execution_count": 1,
            "metadata": {},
            "outputs": [
                {
                    "name": "stdout",
                    "output_type": "stream",
                    "text": [
                        "hello world!\n"
                    ]
                }
            ],
            "source": [
                "print(\"hello world!\")"
            ]
        },
        {
            "cell_type": "code",
            "execution_count": null,
            "metadata": {},
            "outputs": [],
            "source": []
        },
        {
            "cell_type": "markdown",
            "metadata": {},
            "source": []
        },
        {
            "cell_type": "code",
            "execution_count": 3,
            "metadata": {},
            "outputs": [
                {
                    "data": {
                        "text/plain": [
                            "[<matplotlib.lines.Line2D at 0x7f7f388e6c10>]"
                        ]
                    },
                    "execution_count": 3,
                    "metadata": {},
                    "output_type": "execute_result"
                },
                {
                    "data": {
                        "image/png": "[encoded data removed]",
                        "text/plain": [
                            "<Figure size 432x288 with 1 Axes>"
                        ]
                    },
                    "metadata": {
                        "needs_background": "light"
                    },
                    "output_type": "display_data"
                }
            ],
            "source": [
                "%matplotlib inline\n",
                "import matplotlib.pyplot as plt\n",
                "temps = [10.2, 9.8, 10.5, 11.3, 12.0, 10.8]\n",
                "plt.plot(temps)"
            ]
        },
        {
            "cell_type": "code",
            "execution_count": 1,
            "metadata": {},
            "outputs": [
                {
                    "data": {
                        "text/html": [
                            "<div>\n",
                            "<style scoped>\n",
                            "    .dataframe tbody tr th:only-of-type {\n",
                            "        vertical-align: middle;\n",
                            "    }\n",
                            "\n",
                            "    .dataframe tbody tr th {\n",
                            "        vertical-align: top;\n",
                            "    }\n",
                            "\n",
                            "    .dataframe thead th {\n",
                            "        text-align: right;\n",
                            "    }\n",
                            "</style>\n",
                            "<table border=\"1\" class=\"dataframe\">\n",
                            "  <thead>\n",
                            "    <tr style=\"text-align: right;\">\n",
                            "      <th></th>\n",
                            "      <th>customer_id</th>\n",
                            "      <th>customer_name</th>\n",
                            "      <th>registration_date</th>\n",
                            "      <th>customer_name_kana</th>\n",
                            "      <th>email</th>\n",
                            "      <th>gender</th>\n",
                            "      <th>age</th>\n",
                            "      <th>birth</th>\n",
                            "      <th>pref</th>\n",
                            "    </tr>\n",
                            "  </thead>\n",
                            "  <tbody>\n",
                            "    <tr>\n",
                            "      <th>0</th>\n",
                            "      <td>IK152942</td>\n",
                            "      <td>平田 裕次郎</td>\n",
                            "      <td>2019-01-01 00:25:33</td>\n",
                            "      <td>ひらた ゆうじろう</td>\n",
                            "      <td>hirata_yuujirou@example.com</td>\n",
                            "      <td>M</td>\n",
                            "      <td>29</td>\n",
                            "      <td>1990/6/10</td>\n",
                            "      <td>石川県</td>\n",
                            "    </tr>\n",
                            "    <tr>\n",
                            "      <th>1</th>\n",
                            "      <td>TS808488</td>\n",
                            "      <td>田村 詩織</td>\n",
                            "      <td>2019-01-01 01:13:45</td>\n",
                            "      <td>たむら しおり</td>\n",
                            "      <td>tamura_shiori@example.com</td>\n",
                            "      <td>F</td>\n",
                            "      <td>33</td>\n",
                            "      <td>1986/5/20</td>\n",
                            "      <td>東京都</td>\n",
                            "    </tr>\n",
                            "    <tr>\n",
                            "      <th>2</th>\n",
                            "      <td>AS834628</td>\n",
                            "      <td>久野 由樹</td>\n",
                            "      <td>2019-01-01 02:00:14</td>\n",
                            "      <td>ひさの ゆき</td>\n",
                            "      <td>hisano_yuki@example.com</td>\n",
                            "      <td>F</td>\n",
                            "      <td>63</td>\n",
                            "      <td>1956/1/2</td>\n",
                            "      <td>茨城県</td>\n",
                            "    </tr>\n",
                            "    <tr>\n",
                            "      <th>3</th>\n",
                            "      <td>AS345469</td>\n",
                            "      <td>鶴岡 薫</td>\n",
                            "      <td>2019-01-01 04:48:22</td>\n",
                            "      <td>つるおか かおる</td>\n",
                            "      <td>tsuruoka_kaoru@example.com</td>\n",
                            "      <td>M</td>\n",
                            "      <td>74</td>\n",
                            "      <td>1945/3/25</td>\n",
                            "      <td>東京都</td>\n",
                            "    </tr>\n",
                            "    <tr>\n",
                            "      <th>4</th>\n",
                            "      <td>GD892565</td>\n",
                            "      <td>大内 高史</td>\n",
                            "      <td>2019-01-01 04:54:51</td>\n",
                            "      <td>おおうち たかし</td>\n",
                            "      <td>oouchi_takashi@example.com</td>\n",
                            "      <td>M</td>\n",
                            "      <td>54</td>\n",
                            "      <td>1965/8/5</td>\n",
                            "      <td>千葉県</td>\n",
                            "    </tr>\n",
                            "  </tbody>\n",
                            "</table>\n",
                            "</div>"
                        ],
                        "text/plain": [
                            "  customer_id customer_name    registration_date customer_name_kana  \\\n",
                            "0    IK152942        平田 裕次郎  2019-01-01 00:25:33          ひらた ゆうじろう   \n",
                            "1    TS808488         田村 詩織  2019-01-01 01:13:45            たむら しおり   \n",
                            "2    AS834628         久野 由樹  2019-01-01 02:00:14             ひさの ゆき   \n",
                            "3    AS345469          鶴岡 薫  2019-01-01 04:48:22           つるおか かおる   \n",
                            "4    GD892565         大内 高史  2019-01-01 04:54:51           おおうち たかし   \n",
                            "\n",
                            "                         email gender  age      birth pref  \n",
                            "0  hirata_yuujirou@example.com      M   29  1990/6/10  石川県  \n",
                            "1    tamura_shiori@example.com      F   33  1986/5/20  東京都  \n",
                            "2      hisano_yuki@example.com      F   63   1956/1/2  茨城県  \n",
                            "3   tsuruoka_kaoru@example.com      M   74  1945/3/25  東京都  \n",
                            "4   oouchi_takashi@example.com      M   54   1965/8/5  千葉県  "
                        ]
                    },
                    "execution_count": 1,
                    "metadata": {},
                    "output_type": "execute_result"
                }
            ],
            "source": [
                "import pandas as pd\n",
                "customer_master = pd.read_csv('customer_master.csv')\n",
                "customer_master.head()\n"
            ]
        },
        {
            "cell_type": "code",
            "execution_count": 2,
            "metadata": {},
            "outputs": [],
            "source": [
                "# 警告(worning)の非表示化\n",
                "import warnings\n",
                "warnings.filterwarnings('ignore')\n"
            ]
        },
        {
            "cell_type": "code",
            "execution_count": null,
            "metadata": {},
            "outputs": [],
            "source": [
                "import pandas as pd\n",
                "customer_master = pd.read_csv('customer_master.csv')\n",
                "customer_master.head()\n"
            ]
        },
        {
            "cell_type": "code",
            "execution_count": 3,
            "metadata": {},
            "outputs": [
                {
                    "data": {
                        "text/html": [
                            "<div>\n",
                            "<style scoped>\n",
                            "    .dataframe tbody tr th:only-of-type {\n",
                            "        vertical-align: middle;\n",
                            "    }\n",
                            "\n",
                            "    .dataframe tbody tr th {\n",
                            "        vertical-align: top;\n",
                            "    }\n",
                            "\n",
                            "    .dataframe thead th {\n",
                            "        text-align: right;\n",
                            "    }\n",
                            "</style>\n",
                            "<table border=\"1\" class=\"dataframe\">\n",
                            "  <thead>\n",
                            "    <tr style=\"text-align: right;\">\n",
                            "      <th></th>\n",
                            "      <th>customer_id</th>\n",
                            "      <th>customer_name</th>\n",
                            "      <th>registration_date</th>\n",
                            "      <th>customer_name_kana</th>\n",
                            "      <th>email</th>\n",
                            "      <th>gender</th>\n",
                            "      <th>age</th>\n",
                            "      <th>birth</th>\n",
                            "      <th>pref</th>\n",
                            "    </tr>\n",
                            "  </thead>\n",
                            "  <tbody>\n",
                            "    <tr>\n",
                            "      <th>0</th>\n",
                            "      <td>IK152942</td>\n",
                            "      <td>平田 裕次郎</td>\n",
                            "      <td>2019-01-01 00:25:33</td>\n",
                            "      <td>ひらた ゆうじろう</td>\n",
                            "      <td>hirata_yuujirou@example.com</td>\n",
                            "      <td>M</td>\n",
                            "      <td>29</td>\n",
                            "      <td>1990/6/10</td>\n",
                            "      <td>石川県</td>\n",
                            "    </tr>\n",
                            "    <tr>\n",
                            "      <th>1</th>\n",
                            "      <td>TS808488</td>\n",
                            "      <td>田村 詩織</td>\n",
                            "      <td>2019-01-01 01:13:45</td>\n",
                            "      <td>たむら しおり</td>\n",
                            "      <td>tamura_shiori@example.com</td>\n",
                            "      <td>F</td>\n",
                            "      <td>33</td>\n",
                            "      <td>1986/5/20</td>\n",
                            "      <td>東京都</td>\n",
                            "    </tr>\n",
                            "    <tr>\n",
                            "      <th>2</th>\n",
                            "      <td>AS834628</td>\n",
                            "      <td>久野 由樹</td>\n",
                            "      <td>2019-01-01 02:00:14</td>\n",
                            "      <td>ひさの ゆき</td>\n",
                            "      <td>hisano_yuki@example.com</td>\n",
                            "      <td>F</td>\n",
                            "      <td>63</td>\n",
                            "      <td>1956/1/2</td>\n",
                            "      <td>茨城県</td>\n",
                            "    </tr>\n",
                            "    <tr>\n",
                            "      <th>3</th>\n",
                            "      <td>AS345469</td>\n",
                            "      <td>鶴岡 薫</td>\n",
                            "      <td>2019-01-01 04:48:22</td>\n",
                            "      <td>つるおか かおる</td>\n",
                            "      <td>tsuruoka_kaoru@example.com</td>\n",
                            "      <td>M</td>\n",
                            "      <td>74</td>\n",
                            "      <td>1945/3/25</td>\n",
                            "      <td>東京都</td>\n",
                            "    </tr>\n",
                            "    <tr>\n",
                            "      <th>4</th>\n",
                            "      <td>GD892565</td>\n",
                            "      <td>大内 高史</td>\n",
                            "      <td>2019-01-01 04:54:51</td>\n",
                            "      <td>おおうち たかし</td>\n",
                            "      <td>oouchi_takashi@example.com</td>\n",
                            "      <td>M</td>\n",
                            "      <td>54</td>\n",
                            "      <td>1965/8/5</td>\n",
                            "      <td>千葉県</td>\n",
                            "    </tr>\n",
                            "  </tbody>\n",
                            "</table>\n",
                            "</div>"
                        ],
                        "text/plain": [
                            "  customer_id customer_name    registration_date customer_name_kana  \\\n",
                            "0    IK152942        平田 裕次郎  2019-01-01 00:25:33          ひらた ゆうじろう   \n",
                            "1    TS808488         田村 詩織  2019-01-01 01:13:45            たむら しおり   \n",
                            "2    AS834628         久野 由樹  2019-01-01 02:00:14             ひさの ゆき   \n",
                            "3    AS345469          鶴岡 薫  2019-01-01 04:48:22           つるおか かおる   \n",
                            "4    GD892565         大内 高史  2019-01-01 04:54:51           おおうち たかし   \n",
                            "\n",
                            "                         email gender  age      birth pref  \n",
                            "0  hirata_yuujirou@example.com      M   29  1990/6/10  石川県  \n",
                            "1    tamura_shiori@example.com      F   33  1986/5/20  東京都  \n",
                            "2      hisano_yuki@example.com      F   63   1956/1/2  茨城県  \n",
                            "3   tsuruoka_kaoru@example.com      M   74  1945/3/25  東京都  \n",
                            "4   oouchi_takashi@example.com      M   54   1965/8/5  千葉県  "
                        ]
                    },
                    "execution_count": 3,
                    "metadata": {},
                    "output_type": "execute_result"
                }
            ],
            "source": [
                "import pandas as pd\n",
                "customer_master = pd.read_csv(\"customer_master.csv\")\n",
                "customer_master.head()"
            ]
        },
        {
            "cell_type": "code",
            "execution_count": 4,
            "metadata": {},
            "outputs": [
                {
                    "data": {
                        "text/html": [
                            "<div>\n",
                            "<style scoped>\n",
                            "    .dataframe tbody tr th:only-of-type {\n",
                            "        vertical-align: middle;\n",
                            "    }\n",
                            "\n",
                            "    .dataframe tbody tr th {\n",
                            "        vertical-align: top;\n",
                            "    }\n",
                            "\n",
                            "    .dataframe thead th {\n",
                            "        text-align: right;\n",
                            "    }\n",
                            "</style>\n",
                            "<table border=\"1\" class=\"dataframe\">\n",
                            "  <thead>\n",
                            "    <tr style=\"text-align: right;\">\n",
                            "      <th></th>\n",
                            "      <th>item_id</th>\n",
                            "      <th>item_name</th>\n",
                            "      <th>item_price</th>\n",
                            "    </tr>\n",
                            "  </thead>\n",
                            "  <tbody>\n",
                            "    <tr>\n",
                            "      <th>0</th>\n",
                            "      <td>S001</td>\n",
                            "      <td>PC-A</td>\n",
                            "      <td>50000</td>\n",
                            "    </tr>\n",
                            "    <tr>\n",
                            "      <th>1</th>\n",
                            "      <td>S002</td>\n",
                            "      <td>PC-B</td>\n",
                            "      <td>85000</td>\n",
                            "    </tr>\n",
                            "    <tr>\n",
                            "      <th>2</th>\n",
                            "      <td>S003</td>\n",
                            "      <td>PC-C</td>\n",
                            "      <td>120000</td>\n",
                            "    </tr>\n",
                            "    <tr>\n",
                            "      <th>3</th>\n",
                            "      <td>S004</td>\n",
                            "      <td>PC-D</td>\n",
                            "      <td>180000</td>\n",
                            "    </tr>\n",
                            "    <tr>\n",
                            "      <th>4</th>\n",
                            "      <td>S005</td>\n",
                            "      <td>PC-E</td>\n",
                            "      <td>210000</td>\n",
                            "    </tr>\n",
                            "  </tbody>\n",
                            "</table>\n",
                            "</div>"
                        ],
                        "text/plain": [
                            "  item_id item_name  item_price\n",
                            "0    S001      PC-A       50000\n",
                            "1    S002      PC-B       85000\n",
                            "2    S003      PC-C      120000\n",
                            "3    S004      PC-D      180000\n",
                            "4    S005      PC-E      210000"
                        ]
                    },
                    "execution_count": 4,
                    "metadata": {},
                    "output_type": "execute_result"
                }
            ],
            "source": [
                "item_master = pd.read_csv(\"item_master.csv\")\n",
                "item_master.head()"
            ]
        },
        {
            "cell_type": "code",
            "execution_count": 5,
            "metadata": {},
            "outputs": [
                {
                    "data": {
                        "text/html": [
                            "<div>\n",
                            "<style scoped>\n",
                            "    .dataframe tbody tr th:only-of-type {\n",
                            "        vertical-align: middle;\n",
                            "    }\n",
                            "\n",
                            "    .dataframe tbody tr th {\n",
                            "        vertical-align: top;\n",
                            "    }\n",
                            "\n",
                            "    .dataframe thead th {\n",
                            "        text-align: right;\n",
                            "    }\n",
                            "</style>\n",
                            "<table border=\"1\" class=\"dataframe\">\n",
                            "  <thead>\n",
                            "    <tr style=\"text-align: right;\">\n",
                            "      <th></th>\n",
                            "      <th>transaction_id</th>\n",
                            "      <th>price</th>\n",
                            "      <th>payment_date</th>\n",
                            "      <th>customer_id</th>\n",
                            "    </tr>\n",
                            "  </thead>\n",
                            "  <tbody>\n",
                            "    <tr>\n",
                            "      <th>0</th>\n",
                            "      <td>T0000000113</td>\n",
                            "      <td>210000</td>\n",
                            "      <td>2019-02-01 01:36:57</td>\n",
                            "      <td>PL563502</td>\n",
                            "    </tr>\n",
                            "    <tr>\n",
                            "      <th>1</th>\n",
                            "      <td>T0000000114</td>\n",
                            "      <td>50000</td>\n",
                            "      <td>2019-02-01 01:37:23</td>\n",
                            "      <td>HD678019</td>\n",
                            "    </tr>\n",
                            "    <tr>\n",
                            "      <th>2</th>\n",
                            "      <td>T0000000115</td>\n",
                            "      <td>120000</td>\n",
                            "      <td>2019-02-01 02:34:19</td>\n",
                            "      <td>HD298120</td>\n",
                            "    </tr>\n",
                            "    <tr>\n",
                            "      <th>3</th>\n",
                            "      <td>T0000000116</td>\n",
                            "      <td>210000</td>\n",
                            "      <td>2019-02-01 02:47:23</td>\n",
                            "      <td>IK452215</td>\n",
                            "    </tr>\n",
                            "    <tr>\n",
                            "      <th>4</th>\n",
                            "      <td>T0000000117</td>\n",
                            "      <td>170000</td>\n",
                            "      <td>2019-02-01 04:33:46</td>\n",
                            "      <td>PL542865</td>\n",
                            "    </tr>\n",
                            "  </tbody>\n",
                            "</table>\n",
                            "</div>"
                        ],
                        "text/plain": [
                            "  transaction_id   price         payment_date customer_id\n",
                            "0    T0000000113  210000  2019-02-01 01:36:57    PL563502\n",
                            "1    T0000000114   50000  2019-02-01 01:37:23    HD678019\n",
                            "2    T0000000115  120000  2019-02-01 02:34:19    HD298120\n",
                            "3    T0000000116  210000  2019-02-01 02:47:23    IK452215\n",
                            "4    T0000000117  170000  2019-02-01 04:33:46    PL542865"
                        ]
                    },
                    "execution_count": 5,
                    "metadata": {},
                    "output_type": "execute_result"
                }
            ],
            "source": [
                "transaction_1 = pd.read_csv(\"transaction_1.csv\")\n",
                "transaction_1.head()\n"
            ]
        },
        {
            "cell_type": "code",
            "execution_count": 6,
            "metadata": {},
            "outputs": [
                {
                    "data": {
                        "text/html": [
                            "<div>\n",
                            "<style scoped>\n",
                            "    .dataframe tbody tr th:only-of-type {\n",
                            "        vertical-align: middle;\n",
                            "    }\n",
                            "\n",
                            "    .dataframe tbody tr th {\n",
                            "        vertical-align: top;\n",
                            "    }\n",
                            "\n",
                            "    .dataframe thead th {\n",
                            "        text-align: right;\n",
                            "    }\n",
                            "</style>\n",
                            "<table border=\"1\" class=\"dataframe\">\n",
                            "  <thead>\n",
                            "    <tr style=\"text-align: right;\">\n",
                            "      <th></th>\n",
                            "      <th>detail_id</th>\n",
                            "      <th>transaction_id</th>\n",
                            "      <th>item_id</th>\n",
                            "      <th>quantity</th>\n",
                            "    </tr>\n",
                            "  </thead>\n",
                            "  <tbody>\n",
                            "    <tr>\n",
                            "      <th>0</th>\n",
                            "      <td>0</td>\n",
                            "      <td>T0000000113</td>\n",
                            "      <td>S005</td>\n",
                            "      <td>1</td>\n",
                            "    </tr>\n",
                            "    <tr>\n",
                            "      <th>1</th>\n",
                            "      <td>1</td>\n",
                            "      <td>T0000000114</td>\n",
                            "      <td>S001</td>\n",
                            "      <td>1</td>\n",
                            "    </tr>\n",
                            "    <tr>\n",
                            "      <th>2</th>\n",
                            "      <td>2</td>\n",
                            "      <td>T0000000115</td>\n",
                            "      <td>S003</td>\n",
                            "      <td>1</td>\n",
                            "    </tr>\n",
                            "    <tr>\n",
                            "      <th>3</th>\n",
                            "      <td>3</td>\n",
                            "      <td>T0000000116</td>\n",
                            "      <td>S005</td>\n",
                            "      <td>1</td>\n",
                            "    </tr>\n",
                            "    <tr>\n",
                            "      <th>4</th>\n",
                            "      <td>4</td>\n",
                            "      <td>T0000000117</td>\n",
                            "      <td>S002</td>\n",
                            "      <td>2</td>\n",
                            "    </tr>\n",
                            "  </tbody>\n",
                            "</table>\n",
                            "</div>"
                        ],
                        "text/plain": [
                            "   detail_id transaction_id item_id  quantity\n",
                            "0          0    T0000000113    S005         1\n",
                            "1          1    T0000000114    S001         1\n",
                            "2          2    T0000000115    S003         1\n",
                            "3          3    T0000000116    S005         1\n",
                            "4          4    T0000000117    S002         2"
                        ]
                    },
                    "execution_count": 6,
                    "metadata": {},
                    "output_type": "execute_result"
                }
            ],
            "source": [
                "transaction_detail_1 = pd.read_csv(\"transaction_detail_1.csv\")\n",
                "transaction_detail_1.head()\n"
            ]
        },
        {
            "cell_type": "code",
            "execution_count": 8,
            "metadata": {},
            "outputs": [
                {
                    "data": {
                        "text/html": [
                            "<div>\n",
                            "<style scoped>\n",
                            "    .dataframe tbody tr th:only-of-type {\n",
                            "        vertical-align: middle;\n",
                            "    }\n",
                            "\n",
                            "    .dataframe tbody tr th {\n",
                            "        vertical-align: top;\n",
                            "    }\n",
                            "\n",
                            "    .dataframe thead th {\n",
                            "        text-align: right;\n",
                            "    }\n",
                            "</style>\n",
                            "<table border=\"1\" class=\"dataframe\">\n",
                            "  <thead>\n",
                            "    <tr style=\"text-align: right;\">\n",
                            "      <th></th>\n",
                            "      <th>transaction_id</th>\n",
                            "      <th>price</th>\n",
                            "      <th>payment_date</th>\n",
                            "      <th>customer_id</th>\n",
                            "    </tr>\n",
                            "  </thead>\n",
                            "  <tbody>\n",
                            "    <tr>\n",
                            "      <th>0</th>\n",
                            "      <td>T0000000113</td>\n",
                            "      <td>210000</td>\n",
                            "      <td>2019-02-01 01:36:57</td>\n",
                            "      <td>PL563502</td>\n",
                            "    </tr>\n",
                            "    <tr>\n",
                            "      <th>1</th>\n",
                            "      <td>T0000000114</td>\n",
                            "      <td>50000</td>\n",
                            "      <td>2019-02-01 01:37:23</td>\n",
                            "      <td>HD678019</td>\n",
                            "    </tr>\n",
                            "    <tr>\n",
                            "      <th>2</th>\n",
                            "      <td>T0000000115</td>\n",
                            "      <td>120000</td>\n",
                            "      <td>2019-02-01 02:34:19</td>\n",
                            "      <td>HD298120</td>\n",
                            "    </tr>\n",
                            "    <tr>\n",
                            "      <th>3</th>\n",
                            "      <td>T0000000116</td>\n",
                            "      <td>210000</td>\n",
                            "      <td>2019-02-01 02:47:23</td>\n",
                            "      <td>IK452215</td>\n",
                            "    </tr>\n",
                            "    <tr>\n",
                            "      <th>4</th>\n",
                            "      <td>T0000000117</td>\n",
                            "      <td>170000</td>\n",
                            "      <td>2019-02-01 04:33:46</td>\n",
                            "      <td>PL542865</td>\n",
                            "    </tr>\n",
                            "  </tbody>\n",
                            "</table>\n",
                            "</div>"
                        ],
                        "text/plain": [
                            "  transaction_id   price         payment_date customer_id\n",
                            "0    T0000000113  210000  2019-02-01 01:36:57    PL563502\n",
                            "1    T0000000114   50000  2019-02-01 01:37:23    HD678019\n",
                            "2    T0000000115  120000  2019-02-01 02:34:19    HD298120\n",
                            "3    T0000000116  210000  2019-02-01 02:47:23    IK452215\n",
                            "4    T0000000117  170000  2019-02-01 04:33:46    PL542865"
                        ]
                    },
                    "execution_count": 8,
                    "metadata": {},
                    "output_type": "execute_result"
                }
            ],
            "source": [
                "transaction_2 = pd.read_csv(\"transaction_2.csv\")\n",
                "transaction = pd.concat([transaction_1,transaction_2],ignore_index=True)\n",
                "transaction.head()\n"
            ]
        },
        {
            "cell_type": "code",
            "execution_count": 9,
            "metadata": {},
            "outputs": [
                {
                    "name": "stdout",
                    "output_type": "stream",
                    "text": [
                        "5000\n",
                        "1786\n",
                        "6786\n"
                    ]
                }
            ],
            "source": [
                "print(len(transaction_1))\n",
                "print(len(transaction_2))\n",
                "print(len(transaction))\n"
            ]
        },
        {
            "cell_type": "code",
            "execution_count": 10,
            "metadata": {},
            "outputs": [
                {
                    "data": {
                        "text/html": [
                            "<div>\n",
                            "<style scoped>\n",
                            "    .dataframe tbody tr th:only-of-type {\n",
                            "        vertical-align: middle;\n",
                            "    }\n",
                            "\n",
                            "    .dataframe tbody tr th {\n",
                            "        vertical-align: top;\n",
                            "    }\n",
                            "\n",
                            "    .dataframe thead th {\n",
                            "        text-align: right;\n",
                            "    }\n",
                            "</style>\n",
                            "<table border=\"1\" class=\"dataframe\">\n",
                            "  <thead>\n",
                            "    <tr style=\"text-align: right;\">\n",
                            "      <th></th>\n",
                            "      <th>detail_id</th>\n",
                            "      <th>transaction_id</th>\n",
                            "      <th>item_id</th>\n",
                            "      <th>quantity</th>\n",
                            "    </tr>\n",
                            "  </thead>\n",
                            "  <tbody>\n",
                            "    <tr>\n",
                            "      <th>0</th>\n",
                            "      <td>0</td>\n",
                            "      <td>T0000000113</td>\n",
                            "      <td>S005</td>\n",
                            "      <td>1</td>\n",
                            "    </tr>\n",
                            "    <tr>\n",
                            "      <th>1</th>\n",
                            "      <td>1</td>\n",
                            "      <td>T0000000114</td>\n",
                            "      <td>S001</td>\n",
                            "      <td>1</td>\n",
                            "    </tr>\n",
                            "    <tr>\n",
                            "      <th>2</th>\n",
                            "      <td>2</td>\n",
                            "      <td>T0000000115</td>\n",
                            "      <td>S003</td>\n",
                            "      <td>1</td>\n",
                            "    </tr>\n",
                            "    <tr>\n",
                            "      <th>3</th>\n",
                            "      <td>3</td>\n",
                            "      <td>T0000000116</td>\n",
                            "      <td>S005</td>\n",
                            "      <td>1</td>\n",
                            "    </tr>\n",
                            "    <tr>\n",
                            "      <th>4</th>\n",
                            "      <td>4</td>\n",
                            "      <td>T0000000117</td>\n",
                            "      <td>S002</td>\n",
                            "      <td>2</td>\n",
                            "    </tr>\n",
                            "  </tbody>\n",
                            "</table>\n",
                            "</div>"
                        ],
                        "text/plain": [
                            "   detail_id transaction_id item_id  quantity\n",
                            "0          0    T0000000113    S005         1\n",
                            "1          1    T0000000114    S001         1\n",
                            "2          2    T0000000115    S003         1\n",
                            "3          3    T0000000116    S005         1\n",
                            "4          4    T0000000117    S002         2"
                        ]
                    },
                    "execution_count": 10,
                    "metadata": {},
                    "output_type": "execute_result"
                }
            ],
            "source": [
                "transaction_detail_2 = pd.read_csv(\"transaction_detail_2.csv\")\n",
                "transaction_detail = pd.concat(\n",
                "    [transaction_detail_1, transaction_detail_2], ignore_index=True)\n",
                "transaction_detail.head()\n"
            ]
        },
        {
            "cell_type": "code",
            "execution_count": 11,
            "metadata": {},
            "outputs": [
                {
                    "name": "stdout",
                    "output_type": "stream",
                    "text": [
                        "5000\n",
                        "2144\n",
                        "7144\n"
                    ]
                }
            ],
            "source": [
                "print(len(transaction_detail_1))\n",
                "print(len(transaction_detail_2))\n",
                "print(len(transaction_detail))\n"
            ]
        },
        {
            "cell_type": "code",
            "execution_count": 17,
            "metadata": {},
            "outputs": [
                {
                    "data": {
                        "text/html": [
                            "<div>\n",
                            "<style scoped>\n",
                            "    .dataframe tbody tr th:only-of-type {\n",
                            "        vertical-align: middle;\n",
                            "    }\n",
                            "\n",
                            "    .dataframe tbody tr th {\n",
                            "        vertical-align: top;\n",
                            "    }\n",
                            "\n",
                            "    .dataframe thead th {\n",
                            "        text-align: right;\n",
                            "    }\n",
                            "</style>\n",
                            "<table border=\"1\" class=\"dataframe\">\n",
                            "  <thead>\n",
                            "    <tr style=\"text-align: right;\">\n",
                            "      <th></th>\n",
                            "      <th>detail_id</th>\n",
                            "      <th>transaction_id</th>\n",
                            "      <th>item_id</th>\n",
                            "      <th>quantity</th>\n",
                            "      <th>payment_date</th>\n",
                            "      <th>customer_id</th>\n",
                            "    </tr>\n",
                            "  </thead>\n",
                            "  <tbody>\n",
                            "    <tr>\n",
                            "      <th>0</th>\n",
                            "      <td>0</td>\n",
                            "      <td>T0000000113</td>\n",
                            "      <td>S005</td>\n",
                            "      <td>1</td>\n",
                            "      <td>2019-02-01 01:36:57</td>\n",
                            "      <td>PL563502</td>\n",
                            "    </tr>\n",
                            "    <tr>\n",
                            "      <th>1</th>\n",
                            "      <td>1</td>\n",
                            "      <td>T0000000114</td>\n",
                            "      <td>S001</td>\n",
                            "      <td>1</td>\n",
                            "      <td>2019-02-01 01:37:23</td>\n",
                            "      <td>HD678019</td>\n",
                            "    </tr>\n",
                            "    <tr>\n",
                            "      <th>2</th>\n",
                            "      <td>2</td>\n",
                            "      <td>T0000000115</td>\n",
                            "      <td>S003</td>\n",
                            "      <td>1</td>\n",
                            "      <td>2019-02-01 02:34:19</td>\n",
                            "      <td>HD298120</td>\n",
                            "    </tr>\n",
                            "    <tr>\n",
                            "      <th>3</th>\n",
                            "      <td>3</td>\n",
                            "      <td>T0000000116</td>\n",
                            "      <td>S005</td>\n",
                            "      <td>1</td>\n",
                            "      <td>2019-02-01 02:47:23</td>\n",
                            "      <td>IK452215</td>\n",
                            "    </tr>\n",
                            "    <tr>\n",
                            "      <th>4</th>\n",
                            "      <td>4</td>\n",
                            "      <td>T0000000117</td>\n",
                            "      <td>S002</td>\n",
                            "      <td>2</td>\n",
                            "      <td>2019-02-01 04:33:46</td>\n",
                            "      <td>PL542865</td>\n",
                            "    </tr>\n",
                            "  </tbody>\n",
                            "</table>\n",
                            "</div>"
                        ],
                        "text/plain": [
                            "   detail_id transaction_id item_id  quantity         payment_date customer_id\n",
                            "0          0    T0000000113    S005         1  2019-02-01 01:36:57    PL563502\n",
                            "1          1    T0000000114    S001         1  2019-02-01 01:37:23    HD678019\n",
                            "2          2    T0000000115    S003         1  2019-02-01 02:34:19    HD298120\n",
                            "3          3    T0000000116    S005         1  2019-02-01 02:47:23    IK452215\n",
                            "4          4    T0000000117    S002         2  2019-02-01 04:33:46    PL542865"
                        ]
                    },
                    "execution_count": 17,
                    "metadata": {},
                    "output_type": "execute_result"
                }
            ],
            "source": [
                "join_data = pd.merge(transaction_detail, transaction[[\"transaction_id\", \"payment_date\", \"customer_id\"]], on=\"transaction_id\", how=\"left\")\n",
                "join_data.head()\n"
            ]
        },
        {
            "cell_type": "code",
            "execution_count": 18,
            "metadata": {},
            "outputs": [
                {
                    "name": "stdout",
                    "output_type": "stream",
                    "text": [
                        "7144\n",
                        "6786\n",
                        "7144\n"
                    ]
                }
            ],
            "source": [
                "print(len(transaction_detail))\n",
                "print(len(transaction))\n",
                "print(len(join_data))\n"
            ]
        },
        {
            "cell_type": "code",
            "execution_count": 19,
            "metadata": {},
            "outputs": [
                {
                    "data": {
                        "text/html": [
                            "<div>\n",
                            "<style scoped>\n",
                            "    .dataframe tbody tr th:only-of-type {\n",
                            "        vertical-align: middle;\n",
                            "    }\n",
                            "\n",
                            "    .dataframe tbody tr th {\n",
                            "        vertical-align: top;\n",
                            "    }\n",
                            "\n",
                            "    .dataframe thead th {\n",
                            "        text-align: right;\n",
                            "    }\n",
                            "</style>\n",
                            "<table border=\"1\" class=\"dataframe\">\n",
                            "  <thead>\n",
                            "    <tr style=\"text-align: right;\">\n",
                            "      <th></th>\n",
                            "      <th>detail_id</th>\n",
                            "      <th>transaction_id</th>\n",
                            "      <th>item_id</th>\n",
                            "      <th>quantity</th>\n",
                            "      <th>payment_date</th>\n",
                            "      <th>customer_id</th>\n",
                            "      <th>customer_name</th>\n",
                            "      <th>registration_date</th>\n",
                            "      <th>customer_name_kana</th>\n",
                            "      <th>email</th>\n",
                            "      <th>gender</th>\n",
                            "      <th>age</th>\n",
                            "      <th>birth</th>\n",
                            "      <th>pref</th>\n",
                            "      <th>item_name</th>\n",
                            "      <th>item_price</th>\n",
                            "    </tr>\n",
                            "  </thead>\n",
                            "  <tbody>\n",
                            "    <tr>\n",
                            "      <th>0</th>\n",
                            "      <td>0</td>\n",
                            "      <td>T0000000113</td>\n",
                            "      <td>S005</td>\n",
                            "      <td>1</td>\n",
                            "      <td>2019-02-01 01:36:57</td>\n",
                            "      <td>PL563502</td>\n",
                            "      <td>井本 芳正</td>\n",
                            "      <td>2019-01-07 14:34:35</td>\n",
                            "      <td>いもと よしまさ</td>\n",
                            "      <td>imoto_yoshimasa@example.com</td>\n",
                            "      <td>M</td>\n",
                            "      <td>30</td>\n",
                            "      <td>1989/7/15</td>\n",
                            "      <td>熊本県</td>\n",
                            "      <td>PC-E</td>\n",
                            "      <td>210000</td>\n",
                            "    </tr>\n",
                            "    <tr>\n",
                            "      <th>1</th>\n",
                            "      <td>1</td>\n",
                            "      <td>T0000000114</td>\n",
                            "      <td>S001</td>\n",
                            "      <td>1</td>\n",
                            "      <td>2019-02-01 01:37:23</td>\n",
                            "      <td>HD678019</td>\n",
                            "      <td>三船 六郎</td>\n",
                            "      <td>2019-01-27 18:00:11</td>\n",
                            "      <td>みふね ろくろう</td>\n",
                            "      <td>mifune_rokurou@example.com</td>\n",
                            "      <td>M</td>\n",
                            "      <td>73</td>\n",
                            "      <td>1945/11/29</td>\n",
                            "      <td>京都府</td>\n",
                            "      <td>PC-A</td>\n",
                            "      <td>50000</td>\n",
                            "    </tr>\n",
                            "    <tr>\n",
                            "      <th>2</th>\n",
                            "      <td>2</td>\n",
                            "      <td>T0000000115</td>\n",
                            "      <td>S003</td>\n",
                            "      <td>1</td>\n",
                            "      <td>2019-02-01 02:34:19</td>\n",
                            "      <td>HD298120</td>\n",
                            "      <td>山根 小雁</td>\n",
                            "      <td>2019-01-11 08:16:02</td>\n",
                            "      <td>やまね こがん</td>\n",
                            "      <td>yamane_kogan@example.com</td>\n",
                            "      <td>M</td>\n",
                            "      <td>42</td>\n",
                            "      <td>1977/5/17</td>\n",
                            "      <td>茨城県</td>\n",
                            "      <td>PC-C</td>\n",
                            "      <td>120000</td>\n",
                            "    </tr>\n",
                            "    <tr>\n",
                            "      <th>3</th>\n",
                            "      <td>3</td>\n",
                            "      <td>T0000000116</td>\n",
                            "      <td>S005</td>\n",
                            "      <td>1</td>\n",
                            "      <td>2019-02-01 02:47:23</td>\n",
                            "      <td>IK452215</td>\n",
                            "      <td>池田 菜摘</td>\n",
                            "      <td>2019-01-10 05:07:38</td>\n",
                            "      <td>いけだ なつみ</td>\n",
                            "      <td>ikeda_natsumi@example.com</td>\n",
                            "      <td>F</td>\n",
                            "      <td>47</td>\n",
                            "      <td>1972/3/17</td>\n",
                            "      <td>兵庫県</td>\n",
                            "      <td>PC-E</td>\n",
                            "      <td>210000</td>\n",
                            "    </tr>\n",
                            "    <tr>\n",
                            "      <th>4</th>\n",
                            "      <td>4</td>\n",
                            "      <td>T0000000117</td>\n",
                            "      <td>S002</td>\n",
                            "      <td>2</td>\n",
                            "      <td>2019-02-01 04:33:46</td>\n",
                            "      <td>PL542865</td>\n",
                            "      <td>栗田 憲一</td>\n",
                            "      <td>2019-01-25 06:46:05</td>\n",
                            "      <td>くりた けんいち</td>\n",
                            "      <td>kurita_kenichi@example.com</td>\n",
                            "      <td>M</td>\n",
                            "      <td>74</td>\n",
                            "      <td>1944/12/17</td>\n",
                            "      <td>長崎県</td>\n",
                            "      <td>PC-B</td>\n",
                            "      <td>85000</td>\n",
                            "    </tr>\n",
                            "  </tbody>\n",
                            "</table>\n",
                            "</div>"
                        ],
                        "text/plain": [
                            "   detail_id transaction_id item_id  quantity         payment_date  \\\n",
                            "0          0    T0000000113    S005         1  2019-02-01 01:36:57   \n",
                            "1          1    T0000000114    S001         1  2019-02-01 01:37:23   \n",
                            "2          2    T0000000115    S003         1  2019-02-01 02:34:19   \n",
                            "3          3    T0000000116    S005         1  2019-02-01 02:47:23   \n",
                            "4          4    T0000000117    S002         2  2019-02-01 04:33:46   \n",
                            "\n",
                            "  customer_id customer_name    registration_date customer_name_kana  \\\n",
                            "0    PL563502         井本 芳正  2019-01-07 14:34:35           いもと よしまさ   \n",
                            "1    HD678019         三船 六郎  2019-01-27 18:00:11           みふね ろくろう   \n",
                            "2    HD298120         山根 小雁  2019-01-11 08:16:02            やまね こがん   \n",
                            "3    IK452215         池田 菜摘  2019-01-10 05:07:38            いけだ なつみ   \n",
                            "4    PL542865         栗田 憲一  2019-01-25 06:46:05           くりた けんいち   \n",
                            "\n",
                            "                         email gender  age       birth pref item_name  \\\n",
                            "0  imoto_yoshimasa@example.com      M   30   1989/7/15  熊本県      PC-E   \n",
                            "1   mifune_rokurou@example.com      M   73  1945/11/29  京都府      PC-A   \n",
                            "2     yamane_kogan@example.com      M   42   1977/5/17  茨城県      PC-C   \n",
                            "3    ikeda_natsumi@example.com      F   47   1972/3/17  兵庫県      PC-E   \n",
                            "4   kurita_kenichi@example.com      M   74  1944/12/17  長崎県      PC-B   \n",
                            "\n",
                            "   item_price  \n",
                            "0      210000  \n",
                            "1       50000  \n",
                            "2      120000  \n",
                            "3      210000  \n",
                            "4       85000  "
                        ]
                    },
                    "execution_count": 19,
                    "metadata": {},
                    "output_type": "execute_result"
                }
            ],
            "source": [
                "join_data = pd.merge(join_data,customer_master,on=\"customer_id\",how=\"left\")\n",
                "join_data = pd.merge(join_data,item_master,on=\"item_id\",how=\"left\")\n",
                "join_data.head()"
            ]
        },
        {
            "cell_type": "code",
            "execution_count": 20,
            "metadata": {},
            "outputs": [
                {
                    "data": {
                        "text/html": [
                            "<div>\n",
                            "<style scoped>\n",
                            "    .dataframe tbody tr th:only-of-type {\n",
                            "        vertical-align: middle;\n",
                            "    }\n",
                            "\n",
                            "    .dataframe tbody tr th {\n",
                            "        vertical-align: top;\n",
                            "    }\n",
                            "\n",
                            "    .dataframe thead th {\n",
                            "        text-align: right;\n",
                            "    }\n",
                            "</style>\n",
                            "<table border=\"1\" class=\"dataframe\">\n",
                            "  <thead>\n",
                            "    <tr style=\"text-align: right;\">\n",
                            "      <th></th>\n",
                            "      <th>quantity</th>\n",
                            "      <th>item_price</th>\n",
                            "      <th>price</th>\n",
                            "    </tr>\n",
                            "  </thead>\n",
                            "  <tbody>\n",
                            "    <tr>\n",
                            "      <th>0</th>\n",
                            "      <td>1</td>\n",
                            "      <td>210000</td>\n",
                            "      <td>210000</td>\n",
                            "    </tr>\n",
                            "    <tr>\n",
                            "      <th>1</th>\n",
                            "      <td>1</td>\n",
                            "      <td>50000</td>\n",
                            "      <td>50000</td>\n",
                            "    </tr>\n",
                            "    <tr>\n",
                            "      <th>2</th>\n",
                            "      <td>1</td>\n",
                            "      <td>120000</td>\n",
                            "      <td>120000</td>\n",
                            "    </tr>\n",
                            "    <tr>\n",
                            "      <th>3</th>\n",
                            "      <td>1</td>\n",
                            "      <td>210000</td>\n",
                            "      <td>210000</td>\n",
                            "    </tr>\n",
                            "    <tr>\n",
                            "      <th>4</th>\n",
                            "      <td>2</td>\n",
                            "      <td>85000</td>\n",
                            "      <td>170000</td>\n",
                            "    </tr>\n",
                            "  </tbody>\n",
                            "</table>\n",
                            "</div>"
                        ],
                        "text/plain": [
                            "   quantity  item_price   price\n",
                            "0         1      210000  210000\n",
                            "1         1       50000   50000\n",
                            "2         1      120000  120000\n",
                            "3         1      210000  210000\n",
                            "4         2       85000  170000"
                        ]
                    },
                    "execution_count": 20,
                    "metadata": {},
                    "output_type": "execute_result"
                }
            ],
            "source": [
                "join_data[\"price\"] = join_data[\"quantity\"] * join_data[\"item_price\"]\n",
                "join_data[[\"quantity\",\"item_price\",\"price\"]].head()"
            ]
        },
        {
            "cell_type": "code",
            "execution_count": 21,
            "metadata": {},
            "outputs": [
                {
                    "name": "stdout",
                    "output_type": "stream",
                    "text": [
                        "971135000\n",
                        "971135000\n"
                    ]
                }
            ],
            "source": [
                "print(join_data[\"price\"].sum())\n",
                "print(transaction[\"price\"].sum())\n"
            ]
        },
        {
            "cell_type": "code",
            "execution_count": 23,
            "metadata": {},
            "outputs": [
                {
                    "name": "stdout",
                    "output_type": "stream",
                    "text": [
                        "971135000\n",
                        "971135000\n"
                    ]
                },
                {
                    "data": {
                        "text/plain": [
                            "True"
                        ]
                    },
                    "execution_count": 23,
                    "metadata": {},
                    "output_type": "execute_result"
                }
            ],
            "source": [
                "print(join_data[\"price\"].sum()) == print(transaction[\"price\"].sum())\n"
            ]
        },
        {
            "cell_type": "code",
            "execution_count": 24,
            "metadata": {},
            "outputs": [
                {
                    "data": {
                        "text/plain": [
                            "detail_id             0\n",
                            "transaction_id        0\n",
                            "item_id               0\n",
                            "quantity              0\n",
                            "payment_date          0\n",
                            "customer_id           0\n",
                            "customer_name         0\n",
                            "registration_date     0\n",
                            "customer_name_kana    0\n",
                            "email                 0\n",
                            "gender                0\n",
                            "age                   0\n",
                            "birth                 0\n",
                            "pref                  0\n",
                            "item_name             0\n",
                            "item_price            0\n",
                            "price                 0\n",
                            "dtype: int64"
                        ]
                    },
                    "execution_count": 24,
                    "metadata": {},
                    "output_type": "execute_result"
                }
            ],
            "source": [
                "join_data.isnull().sum()"
            ]
        },
        {
            "cell_type": "code",
            "execution_count": 25,
            "metadata": {},
            "outputs": [
                {
                    "data": {
                        "text/html": [
                            "<div>\n",
                            "<style scoped>\n",
                            "    .dataframe tbody tr th:only-of-type {\n",
                            "        vertical-align: middle;\n",
                            "    }\n",
                            "\n",
                            "    .dataframe tbody tr th {\n",
                            "        vertical-align: top;\n",
                            "    }\n",
                            "\n",
                            "    .dataframe thead th {\n",
                            "        text-align: right;\n",
                            "    }\n",
                            "</style>\n",
                            "<table border=\"1\" class=\"dataframe\">\n",
                            "  <thead>\n",
                            "    <tr style=\"text-align: right;\">\n",
                            "      <th></th>\n",
                            "      <th>detail_id</th>\n",
                            "      <th>quantity</th>\n",
                            "      <th>age</th>\n",
                            "      <th>item_price</th>\n",
                            "      <th>price</th>\n",
                            "    </tr>\n",
                            "  </thead>\n",
                            "  <tbody>\n",
                            "    <tr>\n",
                            "      <th>count</th>\n",
                            "      <td>7144.000000</td>\n",
                            "      <td>7144.000000</td>\n",
                            "      <td>7144.000000</td>\n",
                            "      <td>7144.000000</td>\n",
                            "      <td>7144.000000</td>\n",
                            "    </tr>\n",
                            "    <tr>\n",
                            "      <th>mean</th>\n",
                            "      <td>3571.500000</td>\n",
                            "      <td>1.199888</td>\n",
                            "      <td>50.265677</td>\n",
                            "      <td>121698.628219</td>\n",
                            "      <td>135937.150056</td>\n",
                            "    </tr>\n",
                            "    <tr>\n",
                            "      <th>std</th>\n",
                            "      <td>2062.439494</td>\n",
                            "      <td>0.513647</td>\n",
                            "      <td>17.190314</td>\n",
                            "      <td>64571.311830</td>\n",
                            "      <td>68511.453297</td>\n",
                            "    </tr>\n",
                            "    <tr>\n",
                            "      <th>min</th>\n",
                            "      <td>0.000000</td>\n",
                            "      <td>1.000000</td>\n",
                            "      <td>20.000000</td>\n",
                            "      <td>50000.000000</td>\n",
                            "      <td>50000.000000</td>\n",
                            "    </tr>\n",
                            "    <tr>\n",
                            "      <th>25%</th>\n",
                            "      <td>1785.750000</td>\n",
                            "      <td>1.000000</td>\n",
                            "      <td>36.000000</td>\n",
                            "      <td>50000.000000</td>\n",
                            "      <td>85000.000000</td>\n",
                            "    </tr>\n",
                            "    <tr>\n",
                            "      <th>50%</th>\n",
                            "      <td>3571.500000</td>\n",
                            "      <td>1.000000</td>\n",
                            "      <td>50.000000</td>\n",
                            "      <td>102500.000000</td>\n",
                            "      <td>120000.000000</td>\n",
                            "    </tr>\n",
                            "    <tr>\n",
                            "      <th>75%</th>\n",
                            "      <td>5357.250000</td>\n",
                            "      <td>1.000000</td>\n",
                            "      <td>65.000000</td>\n",
                            "      <td>187500.000000</td>\n",
                            "      <td>210000.000000</td>\n",
                            "    </tr>\n",
                            "    <tr>\n",
                            "      <th>max</th>\n",
                            "      <td>7143.000000</td>\n",
                            "      <td>4.000000</td>\n",
                            "      <td>80.000000</td>\n",
                            "      <td>210000.000000</td>\n",
                            "      <td>420000.000000</td>\n",
                            "    </tr>\n",
                            "  </tbody>\n",
                            "</table>\n",
                            "</div>"
                        ],
                        "text/plain": [
                            "         detail_id     quantity          age     item_price          price\n",
                            "count  7144.000000  7144.000000  7144.000000    7144.000000    7144.000000\n",
                            "mean   3571.500000     1.199888    50.265677  121698.628219  135937.150056\n",
                            "std    2062.439494     0.513647    17.190314   64571.311830   68511.453297\n",
                            "min       0.000000     1.000000    20.000000   50000.000000   50000.000000\n",
                            "25%    1785.750000     1.000000    36.000000   50000.000000   85000.000000\n",
                            "50%    3571.500000     1.000000    50.000000  102500.000000  120000.000000\n",
                            "75%    5357.250000     1.000000    65.000000  187500.000000  210000.000000\n",
                            "max    7143.000000     4.000000    80.000000  210000.000000  420000.000000"
                        ]
                    },
                    "execution_count": 25,
                    "metadata": {},
                    "output_type": "execute_result"
                }
            ],
            "source": [
                "join_data.describe()"
            ]
        },
        {
            "cell_type": "code",
            "execution_count": 26,
            "metadata": {},
            "outputs": [
                {
                    "name": "stdout",
                    "output_type": "stream",
                    "text": [
                        "2019-02-01 01:36:57\n"
                    ]
                }
            ],
            "source": [
                "print(join_data[\"payment_date\"].min())"
            ]
        },
        {
            "cell_type": "code",
            "execution_count": 27,
            "metadata": {},
            "outputs": [
                {
                    "name": "stdout",
                    "output_type": "stream",
                    "text": [
                        "2019-07-31 23:41:38\n"
                    ]
                }
            ],
            "source": [
                "print(join_data[\"payment_date\"].max())\n"
            ]
        },
        {
            "cell_type": "code",
            "execution_count": 28,
            "metadata": {},
            "outputs": [
                {
                    "data": {
                        "text/plain": [
                            "detail_id              int64\n",
                            "transaction_id        object\n",
                            "item_id               object\n",
                            "quantity               int64\n",
                            "payment_date          object\n",
                            "customer_id           object\n",
                            "customer_name         object\n",
                            "registration_date     object\n",
                            "customer_name_kana    object\n",
                            "email                 object\n",
                            "gender                object\n",
                            "age                    int64\n",
                            "birth                 object\n",
                            "pref                  object\n",
                            "item_name             object\n",
                            "item_price             int64\n",
                            "price                  int64\n",
                            "dtype: object"
                        ]
                    },
                    "execution_count": 28,
                    "metadata": {},
                    "output_type": "execute_result"
                }
            ],
            "source": [
                "join_data.dtypes"
            ]
        },
        {
            "cell_type": "code",
            "execution_count": 29,
            "metadata": {},
            "outputs": [
                {
                    "data": {
                        "text/html": [
                            "<div>\n",
                            "<style scoped>\n",
                            "    .dataframe tbody tr th:only-of-type {\n",
                            "        vertical-align: middle;\n",
                            "    }\n",
                            "\n",
                            "    .dataframe tbody tr th {\n",
                            "        vertical-align: top;\n",
                            "    }\n",
                            "\n",
                            "    .dataframe thead th {\n",
                            "        text-align: right;\n",
                            "    }\n",
                            "</style>\n",
                            "<table border=\"1\" class=\"dataframe\">\n",
                            "  <thead>\n",
                            "    <tr style=\"text-align: right;\">\n",
                            "      <th></th>\n",
                            "      <th>payment_date</th>\n",
                            "      <th>payment_month</th>\n",
                            "    </tr>\n",
                            "  </thead>\n",
                            "  <tbody>\n",
                            "    <tr>\n",
                            "      <th>0</th>\n",
                            "      <td>2019-02-01 01:36:57</td>\n",
                            "      <td>201902</td>\n",
                            "    </tr>\n",
                            "    <tr>\n",
                            "      <th>1</th>\n",
                            "      <td>2019-02-01 01:37:23</td>\n",
                            "      <td>201902</td>\n",
                            "    </tr>\n",
                            "    <tr>\n",
                            "      <th>2</th>\n",
                            "      <td>2019-02-01 02:34:19</td>\n",
                            "      <td>201902</td>\n",
                            "    </tr>\n",
                            "    <tr>\n",
                            "      <th>3</th>\n",
                            "      <td>2019-02-01 02:47:23</td>\n",
                            "      <td>201902</td>\n",
                            "    </tr>\n",
                            "    <tr>\n",
                            "      <th>4</th>\n",
                            "      <td>2019-02-01 04:33:46</td>\n",
                            "      <td>201902</td>\n",
                            "    </tr>\n",
                            "  </tbody>\n",
                            "</table>\n",
                            "</div>"
                        ],
                        "text/plain": [
                            "         payment_date payment_month\n",
                            "0 2019-02-01 01:36:57        201902\n",
                            "1 2019-02-01 01:37:23        201902\n",
                            "2 2019-02-01 02:34:19        201902\n",
                            "3 2019-02-01 02:47:23        201902\n",
                            "4 2019-02-01 04:33:46        201902"
                        ]
                    },
                    "execution_count": 29,
                    "metadata": {},
                    "output_type": "execute_result"
                }
            ],
            "source": [
                "join_data[\"payment_date\"] = pd.to_datetime(join_data[\"payment_date\"])\n",
                "join_data[\"payment_month\"] = join_data[\"payment_date\"].dt.strftime(\"%Y%m\")\n",
                "join_data[[\"payment_date\",\"payment_month\"]].head()"
            ]
        },
        {
            "cell_type": "code",
            "execution_count": 30,
            "metadata": {},
            "outputs": [
                {
                    "data": {
                        "text/plain": [
                            "payment_month\n",
                            "201902    160185000\n",
                            "201903    160370000\n",
                            "201904    160510000\n",
                            "201905    155420000\n",
                            "201906    164030000\n",
                            "201907    170620000\n",
                            "Name: price, dtype: int64"
                        ]
                    },
                    "execution_count": 30,
                    "metadata": {},
                    "output_type": "execute_result"
                }
            ],
            "source": [
                "join_data.groupby(\"payment_month\").sum()[\"price\"]"
            ]
        },
        {
            "cell_type": "code",
            "execution_count": 31,
            "metadata": {},
            "outputs": [
                {
                    "data": {
                        "text/html": [
                            "<div>\n",
                            "<style scoped>\n",
                            "    .dataframe tbody tr th:only-of-type {\n",
                            "        vertical-align: middle;\n",
                            "    }\n",
                            "\n",
                            "    .dataframe tbody tr th {\n",
                            "        vertical-align: top;\n",
                            "    }\n",
                            "\n",
                            "    .dataframe thead th {\n",
                            "        text-align: right;\n",
                            "    }\n",
                            "</style>\n",
                            "<table border=\"1\" class=\"dataframe\">\n",
                            "  <thead>\n",
                            "    <tr style=\"text-align: right;\">\n",
                            "      <th></th>\n",
                            "      <th></th>\n",
                            "      <th>detail_id</th>\n",
                            "      <th>quantity</th>\n",
                            "      <th>age</th>\n",
                            "      <th>item_price</th>\n",
                            "      <th>price</th>\n",
                            "    </tr>\n",
                            "    <tr>\n",
                            "      <th>payment_month</th>\n",
                            "      <th>item_name</th>\n",
                            "      <th></th>\n",
                            "      <th></th>\n",
                            "      <th></th>\n",
                            "      <th></th>\n",
                            "      <th></th>\n",
                            "    </tr>\n",
                            "  </thead>\n",
                            "  <tbody>\n",
                            "    <tr>\n",
                            "      <th rowspan=\"5\" valign=\"top\">201902</th>\n",
                            "      <th>PC-A</th>\n",
                            "      <td>192357</td>\n",
                            "      <td>483</td>\n",
                            "      <td>17274</td>\n",
                            "      <td>16700000</td>\n",
                            "      <td>24150000</td>\n",
                            "    </tr>\n",
                            "    <tr>\n",
                            "      <th>PC-B</th>\n",
                            "      <td>138010</td>\n",
                            "      <td>297</td>\n",
                            "      <td>11928</td>\n",
                            "      <td>20145000</td>\n",
                            "      <td>25245000</td>\n",
                            "    </tr>\n",
                            "    <tr>\n",
                            "      <th>PC-C</th>\n",
                            "      <td>81497</td>\n",
                            "      <td>165</td>\n",
                            "      <td>7727</td>\n",
                            "      <td>18240000</td>\n",
                            "      <td>19800000</td>\n",
                            "    </tr>\n",
                            "    <tr>\n",
                            "      <th>PC-D</th>\n",
                            "      <td>91435</td>\n",
                            "      <td>173</td>\n",
                            "      <td>8377</td>\n",
                            "      <td>29340000</td>\n",
                            "      <td>31140000</td>\n",
                            "    </tr>\n",
                            "    <tr>\n",
                            "      <th>PC-E</th>\n",
                            "      <td>173567</td>\n",
                            "      <td>285</td>\n",
                            "      <td>13973</td>\n",
                            "      <td>58380000</td>\n",
                            "      <td>59850000</td>\n",
                            "    </tr>\n",
                            "    <tr>\n",
                            "      <th rowspan=\"5\" valign=\"top\">201903</th>\n",
                            "      <th>PC-A</th>\n",
                            "      <td>635721</td>\n",
                            "      <td>520</td>\n",
                            "      <td>18300</td>\n",
                            "      <td>18200000</td>\n",
                            "      <td>26000000</td>\n",
                            "    </tr>\n",
                            "    <tr>\n",
                            "      <th>PC-B</th>\n",
                            "      <td>413971</td>\n",
                            "      <td>300</td>\n",
                            "      <td>12084</td>\n",
                            "      <td>20230000</td>\n",
                            "      <td>25500000</td>\n",
                            "    </tr>\n",
                            "    <tr>\n",
                            "      <th>PC-C</th>\n",
                            "      <td>245842</td>\n",
                            "      <td>159</td>\n",
                            "      <td>7178</td>\n",
                            "      <td>17160000</td>\n",
                            "      <td>19080000</td>\n",
                            "    </tr>\n",
                            "    <tr>\n",
                            "      <th>PC-D</th>\n",
                            "      <td>247832</td>\n",
                            "      <td>143</td>\n",
                            "      <td>6719</td>\n",
                            "      <td>25020000</td>\n",
                            "      <td>25740000</td>\n",
                            "    </tr>\n",
                            "    <tr>\n",
                            "      <th>PC-E</th>\n",
                            "      <td>528108</td>\n",
                            "      <td>305</td>\n",
                            "      <td>14715</td>\n",
                            "      <td>62370000</td>\n",
                            "      <td>64050000</td>\n",
                            "    </tr>\n",
                            "    <tr>\n",
                            "      <th rowspan=\"5\" valign=\"top\">201904</th>\n",
                            "      <th>PC-A</th>\n",
                            "      <td>1076125</td>\n",
                            "      <td>518</td>\n",
                            "      <td>18198</td>\n",
                            "      <td>18450000</td>\n",
                            "      <td>25900000</td>\n",
                            "    </tr>\n",
                            "    <tr>\n",
                            "      <th>PC-B</th>\n",
                            "      <td>638789</td>\n",
                            "      <td>276</td>\n",
                            "      <td>10926</td>\n",
                            "      <td>18360000</td>\n",
                            "      <td>23460000</td>\n",
                            "    </tr>\n",
                            "    <tr>\n",
                            "      <th>PC-C</th>\n",
                            "      <td>496212</td>\n",
                            "      <td>183</td>\n",
                            "      <td>8203</td>\n",
                            "      <td>20160000</td>\n",
                            "      <td>21960000</td>\n",
                            "    </tr>\n",
                            "    <tr>\n",
                            "      <th>PC-D</th>\n",
                            "      <td>368204</td>\n",
                            "      <td>135</td>\n",
                            "      <td>6340</td>\n",
                            "      <td>22860000</td>\n",
                            "      <td>24300000</td>\n",
                            "    </tr>\n",
                            "    <tr>\n",
                            "      <th>PC-E</th>\n",
                            "      <td>897486</td>\n",
                            "      <td>309</td>\n",
                            "      <td>15579</td>\n",
                            "      <td>63840000</td>\n",
                            "      <td>64890000</td>\n",
                            "    </tr>\n",
                            "    <tr>\n",
                            "      <th rowspan=\"5\" valign=\"top\">201905</th>\n",
                            "      <th>PC-A</th>\n",
                            "      <td>1487314</td>\n",
                            "      <td>497</td>\n",
                            "      <td>18040</td>\n",
                            "      <td>18100000</td>\n",
                            "      <td>24850000</td>\n",
                            "    </tr>\n",
                            "    <tr>\n",
                            "      <th>PC-B</th>\n",
                            "      <td>990251</td>\n",
                            "      <td>298</td>\n",
                            "      <td>12080</td>\n",
                            "      <td>20485000</td>\n",
                            "      <td>25330000</td>\n",
                            "    </tr>\n",
                            "    <tr>\n",
                            "      <th>PC-C</th>\n",
                            "      <td>631230</td>\n",
                            "      <td>171</td>\n",
                            "      <td>7466</td>\n",
                            "      <td>18480000</td>\n",
                            "      <td>20520000</td>\n",
                            "    </tr>\n",
                            "    <tr>\n",
                            "      <th>PC-D</th>\n",
                            "      <td>567773</td>\n",
                            "      <td>144</td>\n",
                            "      <td>6913</td>\n",
                            "      <td>24840000</td>\n",
                            "      <td>25920000</td>\n",
                            "    </tr>\n",
                            "    <tr>\n",
                            "      <th>PC-E</th>\n",
                            "      <td>1136227</td>\n",
                            "      <td>280</td>\n",
                            "      <td>13696</td>\n",
                            "      <td>57750000</td>\n",
                            "      <td>58800000</td>\n",
                            "    </tr>\n",
                            "    <tr>\n",
                            "      <th rowspan=\"5\" valign=\"top\">201906</th>\n",
                            "      <th>PC-A</th>\n",
                            "      <td>1874692</td>\n",
                            "      <td>520</td>\n",
                            "      <td>18426</td>\n",
                            "      <td>17750000</td>\n",
                            "      <td>26000000</td>\n",
                            "    </tr>\n",
                            "    <tr>\n",
                            "      <th>PC-B</th>\n",
                            "      <td>1229074</td>\n",
                            "      <td>282</td>\n",
                            "      <td>11613</td>\n",
                            "      <td>19720000</td>\n",
                            "      <td>23970000</td>\n",
                            "    </tr>\n",
                            "    <tr>\n",
                            "      <th>PC-C</th>\n",
                            "      <td>891651</td>\n",
                            "      <td>182</td>\n",
                            "      <td>8644</td>\n",
                            "      <td>20040000</td>\n",
                            "      <td>21840000</td>\n",
                            "    </tr>\n",
                            "    <tr>\n",
                            "      <th>PC-D</th>\n",
                            "      <td>792209</td>\n",
                            "      <td>160</td>\n",
                            "      <td>7195</td>\n",
                            "      <td>27000000</td>\n",
                            "      <td>28800000</td>\n",
                            "    </tr>\n",
                            "    <tr>\n",
                            "      <th>PC-E</th>\n",
                            "      <td>1582373</td>\n",
                            "      <td>302</td>\n",
                            "      <td>15192</td>\n",
                            "      <td>62580000</td>\n",
                            "      <td>63420000</td>\n",
                            "    </tr>\n",
                            "    <tr>\n",
                            "      <th rowspan=\"5\" valign=\"top\">201907</th>\n",
                            "      <th>PC-A</th>\n",
                            "      <td>2339702</td>\n",
                            "      <td>505</td>\n",
                            "      <td>17941</td>\n",
                            "      <td>17950000</td>\n",
                            "      <td>25250000</td>\n",
                            "    </tr>\n",
                            "    <tr>\n",
                            "      <th>PC-B</th>\n",
                            "      <td>1727205</td>\n",
                            "      <td>332</td>\n",
                            "      <td>13591</td>\n",
                            "      <td>22525000</td>\n",
                            "      <td>28220000</td>\n",
                            "    </tr>\n",
                            "    <tr>\n",
                            "      <th>PC-C</th>\n",
                            "      <td>946483</td>\n",
                            "      <td>162</td>\n",
                            "      <td>7060</td>\n",
                            "      <td>17400000</td>\n",
                            "      <td>19440000</td>\n",
                            "    </tr>\n",
                            "    <tr>\n",
                            "      <th>PC-D</th>\n",
                            "      <td>912353</td>\n",
                            "      <td>145</td>\n",
                            "      <td>6851</td>\n",
                            "      <td>25200000</td>\n",
                            "      <td>26100000</td>\n",
                            "    </tr>\n",
                            "    <tr>\n",
                            "      <th>PC-E</th>\n",
                            "      <td>2181103</td>\n",
                            "      <td>341</td>\n",
                            "      <td>16869</td>\n",
                            "      <td>70140000</td>\n",
                            "      <td>71610000</td>\n",
                            "    </tr>\n",
                            "  </tbody>\n",
                            "</table>\n",
                            "</div>"
                        ],
                        "text/plain": [
                            "                         detail_id  quantity    age  item_price     price\n",
                            "payment_month item_name                                                  \n",
                            "201902        PC-A          192357       483  17274    16700000  24150000\n",
                            "              PC-B          138010       297  11928    20145000  25245000\n",
                            "              PC-C           81497       165   7727    18240000  19800000\n",
                            "              PC-D           91435       173   8377    29340000  31140000\n",
                            "              PC-E          173567       285  13973    58380000  59850000\n",
                            "201903        PC-A          635721       520  18300    18200000  26000000\n",
                            "              PC-B          413971       300  12084    20230000  25500000\n",
                            "              PC-C          245842       159   7178    17160000  19080000\n",
                            "              PC-D          247832       143   6719    25020000  25740000\n",
                            "              PC-E          528108       305  14715    62370000  64050000\n",
                            "201904        PC-A         1076125       518  18198    18450000  25900000\n",
                            "              PC-B          638789       276  10926    18360000  23460000\n",
                            "              PC-C          496212       183   8203    20160000  21960000\n",
                            "              PC-D          368204       135   6340    22860000  24300000\n",
                            "              PC-E          897486       309  15579    63840000  64890000\n",
                            "201905        PC-A         1487314       497  18040    18100000  24850000\n",
                            "              PC-B          990251       298  12080    20485000  25330000\n",
                            "              PC-C          631230       171   7466    18480000  20520000\n",
                            "              PC-D          567773       144   6913    24840000  25920000\n",
                            "              PC-E         1136227       280  13696    57750000  58800000\n",
                            "201906        PC-A         1874692       520  18426    17750000  26000000\n",
                            "              PC-B         1229074       282  11613    19720000  23970000\n",
                            "              PC-C          891651       182   8644    20040000  21840000\n",
                            "              PC-D          792209       160   7195    27000000  28800000\n",
                            "              PC-E         1582373       302  15192    62580000  63420000\n",
                            "201907        PC-A         2339702       505  17941    17950000  25250000\n",
                            "              PC-B         1727205       332  13591    22525000  28220000\n",
                            "              PC-C          946483       162   7060    17400000  19440000\n",
                            "              PC-D          912353       145   6851    25200000  26100000\n",
                            "              PC-E         2181103       341  16869    70140000  71610000"
                        ]
                    },
                    "execution_count": 31,
                    "metadata": {},
                    "output_type": "execute_result"
                }
            ],
            "source": [
                "join_data.groupby([\"payment_month\",\"item_name\"]).sum([[\"price\",\"quantity\"]])"
            ]
        },
        {
            "cell_type": "code",
            "execution_count": 32,
            "metadata": {},
            "outputs": [
                {
                    "data": {
                        "text/html": [
                            "<div>\n",
                            "<style scoped>\n",
                            "    .dataframe tbody tr th:only-of-type {\n",
                            "        vertical-align: middle;\n",
                            "    }\n",
                            "\n",
                            "    .dataframe tbody tr th {\n",
                            "        vertical-align: top;\n",
                            "    }\n",
                            "\n",
                            "    .dataframe thead tr th {\n",
                            "        text-align: left;\n",
                            "    }\n",
                            "\n",
                            "    .dataframe thead tr:last-of-type th {\n",
                            "        text-align: right;\n",
                            "    }\n",
                            "</style>\n",
                            "<table border=\"1\" class=\"dataframe\">\n",
                            "  <thead>\n",
                            "    <tr>\n",
                            "      <th></th>\n",
                            "      <th colspan=\"6\" halign=\"left\">price</th>\n",
                            "      <th colspan=\"6\" halign=\"left\">quantity</th>\n",
                            "    </tr>\n",
                            "    <tr>\n",
                            "      <th>payment_month</th>\n",
                            "      <th>201902</th>\n",
                            "      <th>201903</th>\n",
                            "      <th>201904</th>\n",
                            "      <th>201905</th>\n",
                            "      <th>201906</th>\n",
                            "      <th>201907</th>\n",
                            "      <th>201902</th>\n",
                            "      <th>201903</th>\n",
                            "      <th>201904</th>\n",
                            "      <th>201905</th>\n",
                            "      <th>201906</th>\n",
                            "      <th>201907</th>\n",
                            "    </tr>\n",
                            "    <tr>\n",
                            "      <th>item_name</th>\n",
                            "      <th></th>\n",
                            "      <th></th>\n",
                            "      <th></th>\n",
                            "      <th></th>\n",
                            "      <th></th>\n",
                            "      <th></th>\n",
                            "      <th></th>\n",
                            "      <th></th>\n",
                            "      <th></th>\n",
                            "      <th></th>\n",
                            "      <th></th>\n",
                            "      <th></th>\n",
                            "    </tr>\n",
                            "  </thead>\n",
                            "  <tbody>\n",
                            "    <tr>\n",
                            "      <th>PC-A</th>\n",
                            "      <td>24150000</td>\n",
                            "      <td>26000000</td>\n",
                            "      <td>25900000</td>\n",
                            "      <td>24850000</td>\n",
                            "      <td>26000000</td>\n",
                            "      <td>25250000</td>\n",
                            "      <td>483</td>\n",
                            "      <td>520</td>\n",
                            "      <td>518</td>\n",
                            "      <td>497</td>\n",
                            "      <td>520</td>\n",
                            "      <td>505</td>\n",
                            "    </tr>\n",
                            "    <tr>\n",
                            "      <th>PC-B</th>\n",
                            "      <td>25245000</td>\n",
                            "      <td>25500000</td>\n",
                            "      <td>23460000</td>\n",
                            "      <td>25330000</td>\n",
                            "      <td>23970000</td>\n",
                            "      <td>28220000</td>\n",
                            "      <td>297</td>\n",
                            "      <td>300</td>\n",
                            "      <td>276</td>\n",
                            "      <td>298</td>\n",
                            "      <td>282</td>\n",
                            "      <td>332</td>\n",
                            "    </tr>\n",
                            "    <tr>\n",
                            "      <th>PC-C</th>\n",
                            "      <td>19800000</td>\n",
                            "      <td>19080000</td>\n",
                            "      <td>21960000</td>\n",
                            "      <td>20520000</td>\n",
                            "      <td>21840000</td>\n",
                            "      <td>19440000</td>\n",
                            "      <td>165</td>\n",
                            "      <td>159</td>\n",
                            "      <td>183</td>\n",
                            "      <td>171</td>\n",
                            "      <td>182</td>\n",
                            "      <td>162</td>\n",
                            "    </tr>\n",
                            "    <tr>\n",
                            "      <th>PC-D</th>\n",
                            "      <td>31140000</td>\n",
                            "      <td>25740000</td>\n",
                            "      <td>24300000</td>\n",
                            "      <td>25920000</td>\n",
                            "      <td>28800000</td>\n",
                            "      <td>26100000</td>\n",
                            "      <td>173</td>\n",
                            "      <td>143</td>\n",
                            "      <td>135</td>\n",
                            "      <td>144</td>\n",
                            "      <td>160</td>\n",
                            "      <td>145</td>\n",
                            "    </tr>\n",
                            "    <tr>\n",
                            "      <th>PC-E</th>\n",
                            "      <td>59850000</td>\n",
                            "      <td>64050000</td>\n",
                            "      <td>64890000</td>\n",
                            "      <td>58800000</td>\n",
                            "      <td>63420000</td>\n",
                            "      <td>71610000</td>\n",
                            "      <td>285</td>\n",
                            "      <td>305</td>\n",
                            "      <td>309</td>\n",
                            "      <td>280</td>\n",
                            "      <td>302</td>\n",
                            "      <td>341</td>\n",
                            "    </tr>\n",
                            "  </tbody>\n",
                            "</table>\n",
                            "</div>"
                        ],
                        "text/plain": [
                            "                  price                                                    \\\n",
                            "payment_month    201902    201903    201904    201905    201906    201907   \n",
                            "item_name                                                                   \n",
                            "PC-A           24150000  26000000  25900000  24850000  26000000  25250000   \n",
                            "PC-B           25245000  25500000  23460000  25330000  23970000  28220000   \n",
                            "PC-C           19800000  19080000  21960000  20520000  21840000  19440000   \n",
                            "PC-D           31140000  25740000  24300000  25920000  28800000  26100000   \n",
                            "PC-E           59850000  64050000  64890000  58800000  63420000  71610000   \n",
                            "\n",
                            "              quantity                                     \n",
                            "payment_month   201902 201903 201904 201905 201906 201907  \n",
                            "item_name                                                  \n",
                            "PC-A               483    520    518    497    520    505  \n",
                            "PC-B               297    300    276    298    282    332  \n",
                            "PC-C               165    159    183    171    182    162  \n",
                            "PC-D               173    143    135    144    160    145  \n",
                            "PC-E               285    305    309    280    302    341  "
                        ]
                    },
                    "execution_count": 32,
                    "metadata": {},
                    "output_type": "execute_result"
                }
            ],
            "source": [
                "pd.pivot_table(join_data,index=\"item_name\",columns=\"payment_month\",values=[\"price\",\"quantity\"],aggfunc=\"sum\")"
            ]
        },
        {
            "cell_type": "code",
            "execution_count": 35,
            "metadata": {},
            "outputs": [
                {
                    "data": {
                        "text/plain": [
                            "<bound method NDFrame.head of item_name          PC-A      PC-B      PC-C      PC-D      PC-E\n",
                            "payment_month                                                  \n",
                            "201902         24150000  25245000  19800000  31140000  59850000\n",
                            "201903         26000000  25500000  19080000  25740000  64050000\n",
                            "201904         25900000  23460000  21960000  24300000  64890000\n",
                            "201905         24850000  25330000  20520000  25920000  58800000\n",
                            "201906         26000000  23970000  21840000  28800000  63420000\n",
                            "201907         25250000  28220000  19440000  26100000  71610000>"
                        ]
                    },
                    "execution_count": 35,
                    "metadata": {},
                    "output_type": "execute_result"
                }
            ],
            "source": [
                "graph_data = pd.pivot_table(join_data, index=\"payment_month\", columns=\"item_name\", values=\"price\", aggfunc=\"sum\")\n",
                "graph_data.head"
            ]
        },
        {
            "cell_type": "code",
            "execution_count": 36,
            "metadata": {},
            "outputs": [
                {
                    "ename": "KeyError",
                    "evalue": "'pc-A'",
                    "output_type": "error",
                    "traceback": [
                        "\u001b[0;31m---------------------------------------------------------------------------\u001b[0m",
                        "\u001b[0;31mKeyError\u001b[0m                                  Traceback (most recent call last)",
                        "\u001b[0;32m~/opt/anaconda3/envs/testpy/lib/python3.8/site-packages/pandas/core/indexes/base.py\u001b[0m in \u001b[0;36mget_loc\u001b[0;34m(self, key, method, tolerance)\u001b[0m\n\u001b[1;32m   3360\u001b[0m             \u001b[0;32mtry\u001b[0m\u001b[0;34m:\u001b[0m\u001b[0;34m\u001b[0m\u001b[0;34m\u001b[0m\u001b[0m\n\u001b[0;32m-> 3361\u001b[0;31m                 \u001b[0;32mreturn\u001b[0m \u001b[0mself\u001b[0m\u001b[0;34m.\u001b[0m\u001b[0m_engine\u001b[0m\u001b[0;34m.\u001b[0m\u001b[0mget_loc\u001b[0m\u001b[0;34m(\u001b[0m\u001b[0mcasted_key\u001b[0m\u001b[0;34m)\u001b[0m\u001b[0;34m\u001b[0m\u001b[0;34m\u001b[0m\u001b[0m\n\u001b[0m\u001b[1;32m   3362\u001b[0m             \u001b[0;32mexcept\u001b[0m \u001b[0mKeyError\u001b[0m \u001b[0;32mas\u001b[0m \u001b[0merr\u001b[0m\u001b[0;34m:\u001b[0m\u001b[0;34m\u001b[0m\u001b[0;34m\u001b[0m\u001b[0m\n",
                        "\u001b[0;32m~/opt/anaconda3/envs/testpy/lib/python3.8/site-packages/pandas/_libs/index.pyx\u001b[0m in \u001b[0;36mpandas._libs.index.IndexEngine.get_loc\u001b[0;34m()\u001b[0m\n",
                        "\u001b[0;32m~/opt/anaconda3/envs/testpy/lib/python3.8/site-packages/pandas/_libs/index.pyx\u001b[0m in \u001b[0;36mpandas._libs.index.IndexEngine.get_loc\u001b[0;34m()\u001b[0m\n",
                        "\u001b[0;32mpandas/_libs/hashtable_class_helper.pxi\u001b[0m in \u001b[0;36mpandas._libs.hashtable.PyObjectHashTable.get_item\u001b[0;34m()\u001b[0m\n",
                        "\u001b[0;32mpandas/_libs/hashtable_class_helper.pxi\u001b[0m in \u001b[0;36mpandas._libs.hashtable.PyObjectHashTable.get_item\u001b[0;34m()\u001b[0m\n",
                        "\u001b[0;31mKeyError\u001b[0m: 'pc-A'",
                        "\nThe above exception was the direct cause of the following exception:\n",
                        "\u001b[0;31mKeyError\u001b[0m                                  Traceback (most recent call last)",
                        "\u001b[0;32m<ipython-input-36-357fd626d613>\u001b[0m in \u001b[0;36m<module>\u001b[0;34m\u001b[0m\n\u001b[1;32m      1\u001b[0m \u001b[0;32mimport\u001b[0m \u001b[0mmatplotlib\u001b[0m\u001b[0;34m.\u001b[0m\u001b[0mpyplot\u001b[0m \u001b[0;32mas\u001b[0m \u001b[0mplt\u001b[0m\u001b[0;34m\u001b[0m\u001b[0;34m\u001b[0m\u001b[0m\n\u001b[1;32m      2\u001b[0m \u001b[0mget_ipython\u001b[0m\u001b[0;34m(\u001b[0m\u001b[0;34m)\u001b[0m\u001b[0;34m.\u001b[0m\u001b[0mrun_line_magic\u001b[0m\u001b[0;34m(\u001b[0m\u001b[0;34m'matplotlib'\u001b[0m\u001b[0;34m,\u001b[0m \u001b[0;34m'inline'\u001b[0m\u001b[0;34m)\u001b[0m\u001b[0;34m\u001b[0m\u001b[0;34m\u001b[0m\u001b[0m\n\u001b[0;32m----> 3\u001b[0;31m \u001b[0mplt\u001b[0m\u001b[0;34m.\u001b[0m\u001b[0mplot\u001b[0m\u001b[0;34m(\u001b[0m\u001b[0mlist\u001b[0m\u001b[0;34m(\u001b[0m\u001b[0mgraph_data\u001b[0m\u001b[0;34m.\u001b[0m\u001b[0mindex\u001b[0m\u001b[0;34m)\u001b[0m\u001b[0;34m,\u001b[0m\u001b[0mgraph_data\u001b[0m\u001b[0;34m[\u001b[0m\u001b[0;34m\"pc-A\"\u001b[0m\u001b[0;34m]\u001b[0m\u001b[0;34m,\u001b[0m\u001b[0mlabel\u001b[0m\u001b[0;34m=\u001b[0m\u001b[0;34m\"PC-A\"\u001b[0m\u001b[0;34m)\u001b[0m\u001b[0;34m\u001b[0m\u001b[0;34m\u001b[0m\u001b[0m\n\u001b[0m\u001b[1;32m      4\u001b[0m \u001b[0mplt\u001b[0m\u001b[0;34m.\u001b[0m\u001b[0mplot\u001b[0m\u001b[0;34m(\u001b[0m\u001b[0mlist\u001b[0m\u001b[0;34m(\u001b[0m\u001b[0mgraph_data\u001b[0m\u001b[0;34m.\u001b[0m\u001b[0mindex\u001b[0m\u001b[0;34m)\u001b[0m\u001b[0;34m,\u001b[0m\u001b[0mgraph_data\u001b[0m\u001b[0;34m[\u001b[0m\u001b[0;34m\"pc-B\"\u001b[0m\u001b[0;34m]\u001b[0m\u001b[0;34m,\u001b[0m\u001b[0mlabel\u001b[0m\u001b[0;34m=\u001b[0m\u001b[0;34m\"PC-B\"\u001b[0m\u001b[0;34m)\u001b[0m\u001b[0;34m\u001b[0m\u001b[0;34m\u001b[0m\u001b[0m\n\u001b[1;32m      5\u001b[0m \u001b[0mplt\u001b[0m\u001b[0;34m.\u001b[0m\u001b[0mplot\u001b[0m\u001b[0;34m(\u001b[0m\u001b[0mlist\u001b[0m\u001b[0;34m(\u001b[0m\u001b[0mgraph_data\u001b[0m\u001b[0;34m.\u001b[0m\u001b[0mindex\u001b[0m\u001b[0;34m)\u001b[0m\u001b[0;34m,\u001b[0m\u001b[0mgraph_data\u001b[0m\u001b[0;34m[\u001b[0m\u001b[0;34m\"pc-C\"\u001b[0m\u001b[0;34m]\u001b[0m\u001b[0;34m,\u001b[0m\u001b[0mlabel\u001b[0m\u001b[0;34m=\u001b[0m\u001b[0;34m\"PC-C\"\u001b[0m\u001b[0;34m)\u001b[0m\u001b[0;34m\u001b[0m\u001b[0;34m\u001b[0m\u001b[0m\n",
                        "\u001b[0;32m~/opt/anaconda3/envs/testpy/lib/python3.8/site-packages/pandas/core/frame.py\u001b[0m in \u001b[0;36m__getitem__\u001b[0;34m(self, key)\u001b[0m\n\u001b[1;32m   3453\u001b[0m             \u001b[0;32mif\u001b[0m \u001b[0mself\u001b[0m\u001b[0;34m.\u001b[0m\u001b[0mcolumns\u001b[0m\u001b[0;34m.\u001b[0m\u001b[0mnlevels\u001b[0m \u001b[0;34m>\u001b[0m \u001b[0;36m1\u001b[0m\u001b[0;34m:\u001b[0m\u001b[0;34m\u001b[0m\u001b[0;34m\u001b[0m\u001b[0m\n\u001b[1;32m   3454\u001b[0m                 \u001b[0;32mreturn\u001b[0m \u001b[0mself\u001b[0m\u001b[0;34m.\u001b[0m\u001b[0m_getitem_multilevel\u001b[0m\u001b[0;34m(\u001b[0m\u001b[0mkey\u001b[0m\u001b[0;34m)\u001b[0m\u001b[0;34m\u001b[0m\u001b[0;34m\u001b[0m\u001b[0m\n\u001b[0;32m-> 3455\u001b[0;31m             \u001b[0mindexer\u001b[0m \u001b[0;34m=\u001b[0m \u001b[0mself\u001b[0m\u001b[0;34m.\u001b[0m\u001b[0mcolumns\u001b[0m\u001b[0;34m.\u001b[0m\u001b[0mget_loc\u001b[0m\u001b[0;34m(\u001b[0m\u001b[0mkey\u001b[0m\u001b[0;34m)\u001b[0m\u001b[0;34m\u001b[0m\u001b[0;34m\u001b[0m\u001b[0m\n\u001b[0m\u001b[1;32m   3456\u001b[0m             \u001b[0;32mif\u001b[0m \u001b[0mis_integer\u001b[0m\u001b[0;34m(\u001b[0m\u001b[0mindexer\u001b[0m\u001b[0;34m)\u001b[0m\u001b[0;34m:\u001b[0m\u001b[0;34m\u001b[0m\u001b[0;34m\u001b[0m\u001b[0m\n\u001b[1;32m   3457\u001b[0m                 \u001b[0mindexer\u001b[0m \u001b[0;34m=\u001b[0m \u001b[0;34m[\u001b[0m\u001b[0mindexer\u001b[0m\u001b[0;34m]\u001b[0m\u001b[0;34m\u001b[0m\u001b[0;34m\u001b[0m\u001b[0m\n",
                        "\u001b[0;32m~/opt/anaconda3/envs/testpy/lib/python3.8/site-packages/pandas/core/indexes/base.py\u001b[0m in \u001b[0;36mget_loc\u001b[0;34m(self, key, method, tolerance)\u001b[0m\n\u001b[1;32m   3361\u001b[0m                 \u001b[0;32mreturn\u001b[0m \u001b[0mself\u001b[0m\u001b[0;34m.\u001b[0m\u001b[0m_engine\u001b[0m\u001b[0;34m.\u001b[0m\u001b[0mget_loc\u001b[0m\u001b[0;34m(\u001b[0m\u001b[0mcasted_key\u001b[0m\u001b[0;34m)\u001b[0m\u001b[0;34m\u001b[0m\u001b[0;34m\u001b[0m\u001b[0m\n\u001b[1;32m   3362\u001b[0m             \u001b[0;32mexcept\u001b[0m \u001b[0mKeyError\u001b[0m \u001b[0;32mas\u001b[0m \u001b[0merr\u001b[0m\u001b[0;34m:\u001b[0m\u001b[0;34m\u001b[0m\u001b[0;34m\u001b[0m\u001b[0m\n\u001b[0;32m-> 3363\u001b[0;31m                 \u001b[0;32mraise\u001b[0m \u001b[0mKeyError\u001b[0m\u001b[0;34m(\u001b[0m\u001b[0mkey\u001b[0m\u001b[0;34m)\u001b[0m \u001b[0;32mfrom\u001b[0m \u001b[0merr\u001b[0m\u001b[0;34m\u001b[0m\u001b[0;34m\u001b[0m\u001b[0m\n\u001b[0m\u001b[1;32m   3364\u001b[0m \u001b[0;34m\u001b[0m\u001b[0m\n\u001b[1;32m   3365\u001b[0m         \u001b[0;32mif\u001b[0m \u001b[0mis_scalar\u001b[0m\u001b[0;34m(\u001b[0m\u001b[0mkey\u001b[0m\u001b[0;34m)\u001b[0m \u001b[0;32mand\u001b[0m \u001b[0misna\u001b[0m\u001b[0;34m(\u001b[0m\u001b[0mkey\u001b[0m\u001b[0;34m)\u001b[0m \u001b[0;32mand\u001b[0m \u001b[0;32mnot\u001b[0m \u001b[0mself\u001b[0m\u001b[0;34m.\u001b[0m\u001b[0mhasnans\u001b[0m\u001b[0;34m:\u001b[0m\u001b[0;34m\u001b[0m\u001b[0;34m\u001b[0m\u001b[0m\n",
                        "\u001b[0;31mKeyError\u001b[0m: 'pc-A'"
                    ]
                }
            ],
            "source": [
                "import matplotlib.pyplot as plt\n",
                "%matplotlib inline\n",
                "plt.plot(list(graph_data.index), graph_data[\"PC-A\"], label=\"PC-A\")\n",
                "plt.plot(list(graph_data.index), graph_data[\"PC-B\"], label=\"PC-B\")\n",
                "plt.plot(list(graph_data.index), graph_data[\"PC-C\"], label=\"PC-C\")\n",
                "plt.plot(list(graph_data.index), graph_data[\"PC-D\"], label=\"PC-D\")\n",
                "plt.plot(list(graph_data.index), graph_data[\"PC-E\"], label=\"PC-E\")\n",
                "plt.legend()\n"
            ]
        },
        {
            "cell_type": "code",
            "execution_count": 1,
            "metadata": {},
            "outputs": [
                {
                    "data": {
                        "text/plain": [
                            "'私の名前は石橋で福岡出身です '"
                        ]
                    },
                    "execution_count": 1,
                    "metadata": {},
                    "output_type": "execute_result"
                }
            ],
            "source": [
                "name = \"石橋\"\n",
                "frrome = \"福岡\"\n",
                "\"私の名前は{}で{}出身です \".format(name,frrome)"
            ]
        },
        {
            "cell_type": "code",
            "execution_count": 6,
            "metadata": {},
            "outputs": [
                {
                    "data": {
                        "text/plain": [
                            "'私の名前は石橋で福岡出身です '"
                        ]
                    },
                    "execution_count": 6,
                    "metadata": {},
                    "output_type": "execute_result"
                }
            ],
            "source": [
                "f\"私の名前は{name}で{frrome}出身です \"\n"
            ]
        },
        {
            "cell_type": "code",
            "execution_count": 7,
            "metadata": {},
            "outputs": [
                {
                    "name": "stdout",
                    "output_type": "stream",
                    "text": [
                        "123\n",
                        "ダー\n"
                    ]
                }
            ],
            "source": [
                "print(\"123\\nダー\")"
            ]
        },
        {
            "cell_type": "code",
            "execution_count": 8,
            "metadata": {},
            "outputs": [
                {
                    "name": "stdout",
                    "output_type": "stream",
                    "text": [
                        "16,10,16.000000\n"
                    ]
                }
            ],
            "source": [
                "print(\"%d,%x,%f\"%(16,16,16))"
            ]
        },
        {
            "cell_type": "code",
            "execution_count": 9,
            "metadata": {},
            "outputs": [
                {
                    "data": {
                        "text/plain": [
                            "'HELLO'"
                        ]
                    },
                    "execution_count": 9,
                    "metadata": {},
                    "output_type": "execute_result"
                }
            ],
            "source": [
                "\"hello\".upper()"
            ]
        },
        {
            "cell_type": "code",
            "execution_count": 10,
            "metadata": {},
            "outputs": [
                {
                    "data": {
                        "text/plain": [
                            "'wolld'"
                        ]
                    },
                    "execution_count": 10,
                    "metadata": {},
                    "output_type": "execute_result"
                }
            ],
            "source": [
                "\"WOLLD\".lower()"
            ]
        },
        {
            "cell_type": "code",
            "execution_count": 23,
            "metadata": {},
            "outputs": [
                {
                    "name": "stdout",
                    "output_type": "stream",
                    "text": [
                        "こんにちは\n",
                        "ぼくドラえもんです\n"
                    ]
                }
            ],
            "source": [
                "message= \"こんにちは\\nぼくドラえもんです\"\n",
                "print(message)"
            ]
        },
        {
            "cell_type": "code",
            "execution_count": 24,
            "metadata": {},
            "outputs": [
                {
                    "data": {
                        "text/plain": [
                            "['こんにちは', 'ぼくドラえもんです']"
                        ]
                    },
                    "execution_count": 24,
                    "metadata": {},
                    "output_type": "execute_result"
                }
            ],
            "source": [
                "message.split(\"\\n\")"
            ]
        },
        {
            "cell_type": "code",
            "execution_count": 25,
            "metadata": {},
            "outputs": [
                {
                    "data": {
                        "text/plain": [
                            "['こんにちは', 'ぼくドラえもんです']"
                        ]
                    },
                    "execution_count": 25,
                    "metadata": {},
                    "output_type": "execute_result"
                }
            ],
            "source": [
                "messages=message.split(\"\\n\")\n",
                "messages"
            ]
        },
        {
            "cell_type": "code",
            "execution_count": 26,
            "metadata": {},
            "outputs": [
                {
                    "data": {
                        "text/plain": [
                            "'こんにちはOOぼくドラえもんです'"
                        ]
                    },
                    "execution_count": 26,
                    "metadata": {},
                    "output_type": "execute_result"
                }
            ],
            "source": [
                "\"OO\".join(messages)\n"
            ]
        },
        {
            "cell_type": "code",
            "execution_count": 27,
            "metadata": {},
            "outputs": [
                {
                    "name": "stdout",
                    "output_type": "stream",
                    "text": [
                        "こんにちはぼくドラえもんです\n"
                    ]
                }
            ],
            "source": [
                "message2 = \"　こんにちはぼくドラえもんです　\"\n",
                "print(message2.strip())\n"
            ]
        },
        {
            "cell_type": "code",
            "execution_count": 35,
            "metadata": {},
            "outputs": [
                {
                    "data": {
                        "text/plain": [
                            "'今日は雨ですね'"
                        ]
                    },
                    "execution_count": 35,
                    "metadata": {},
                    "output_type": "execute_result"
                }
            ],
            "source": [
                "message = \"今日は晴れですね\"\n",
                "message.replace(\"晴れ\", \"雨\")\n"
            ]
        },
        {
            "cell_type": "code",
            "execution_count": 37,
            "metadata": {},
            "outputs": [
                {
                    "data": {
                        "text/plain": [
                            "6"
                        ]
                    },
                    "execution_count": 37,
                    "metadata": {},
                    "output_type": "execute_result"
                }
            ],
            "source": [
                "message = \"今日はとても夜空が切れうだ\"\n",
                "message.find(\"夜空\")\n"
            ]
        },
        {
            "cell_type": "code",
            "execution_count": 41,
            "metadata": {},
            "outputs": [
                {
                    "data": {
                        "text/plain": [
                            "1.44"
                        ]
                    },
                    "execution_count": 41,
                    "metadata": {},
                    "output_type": "execute_result"
                }
            ],
            "source": [
                "x = 1.44\n",
                "x"
            ]
        },
        {
            "cell_type": "code",
            "execution_count": 42,
            "metadata": {},
            "outputs": [
                {
                    "data": {
                        "text/plain": [
                            "'1.44'"
                        ]
                    },
                    "execution_count": 42,
                    "metadata": {},
                    "output_type": "execute_result"
                }
            ],
            "source": [
                "str(x)"
            ]
        },
        {
            "cell_type": "code",
            "execution_count": 43,
            "metadata": {},
            "outputs": [],
            "source": [
                "a, b =\"sba\", \"gasba\""
            ]
        },
        {
            "cell_type": "code",
            "execution_count": 44,
            "metadata": {},
            "outputs": [
                {
                    "data": {
                        "text/plain": [
                            "True"
                        ]
                    },
                    "execution_count": 44,
                    "metadata": {},
                    "output_type": "execute_result"
                }
            ],
            "source": [
                "a in b"
            ]
        },
        {
            "cell_type": "code",
            "execution_count": 45,
            "metadata": {},
            "outputs": [],
            "source": [
                "numbera = [0,3,8,-4,9,1]"
            ]
        },
        {
            "cell_type": "code",
            "execution_count": 46,
            "metadata": {},
            "outputs": [
                {
                    "data": {
                        "text/plain": [
                            "3"
                        ]
                    },
                    "execution_count": 46,
                    "metadata": {},
                    "output_type": "execute_result"
                }
            ],
            "source": [
                "numbera[1]"
            ]
        },
        {
            "cell_type": "code",
            "execution_count": 47,
            "metadata": {},
            "outputs": [],
            "source": [
                "numbera.append(2)"
            ]
        },
        {
            "cell_type": "code",
            "execution_count": 48,
            "metadata": {},
            "outputs": [
                {
                    "data": {
                        "text/plain": [
                            "[0, 3, 8, -4, 9, 1, 2]"
                        ]
                    },
                    "execution_count": 48,
                    "metadata": {},
                    "output_type": "execute_result"
                }
            ],
            "source": [
                "numbera\n"
            ]
        },
        {
            "cell_type": "code",
            "execution_count": 49,
            "metadata": {},
            "outputs": [],
            "source": [
                "numbera.insert(0,5)"
            ]
        },
        {
            "cell_type": "code",
            "execution_count": 50,
            "metadata": {},
            "outputs": [
                {
                    "data": {
                        "text/plain": [
                            "[5, 0, 3, 8, -4, 9, 1, 2]"
                        ]
                    },
                    "execution_count": 50,
                    "metadata": {},
                    "output_type": "execute_result"
                }
            ],
            "source": [
                "numbera\n"
            ]
        },
        {
            "cell_type": "code",
            "execution_count": 51,
            "metadata": {},
            "outputs": [],
            "source": [
                "numbera.insert(-1,3)"
            ]
        },
        {
            "cell_type": "code",
            "execution_count": 52,
            "metadata": {},
            "outputs": [
                {
                    "data": {
                        "text/plain": [
                            "[5, 0, 3, 8, -4, 9, 1, 3, 2]"
                        ]
                    },
                    "execution_count": 52,
                    "metadata": {},
                    "output_type": "execute_result"
                }
            ],
            "source": [
                "numbera"
            ]
        },
        {
            "cell_type": "code",
            "execution_count": 53,
            "metadata": {},
            "outputs": [],
            "source": [
                "numbera.remove(5)"
            ]
        },
        {
            "cell_type": "code",
            "execution_count": 54,
            "metadata": {},
            "outputs": [
                {
                    "data": {
                        "text/plain": [
                            "[0, 3, 8, -4, 9, 1, 3, 2]"
                        ]
                    },
                    "execution_count": 54,
                    "metadata": {},
                    "output_type": "execute_result"
                }
            ],
            "source": [
                "numbera"
            ]
        },
        {
            "cell_type": "code",
            "execution_count": 55,
            "metadata": {},
            "outputs": [
                {
                    "data": {
                        "text/plain": [
                            "1"
                        ]
                    },
                    "execution_count": 55,
                    "metadata": {},
                    "output_type": "execute_result"
                }
            ],
            "source": [
                "numbera.pop(-3)"
            ]
        },
        {
            "cell_type": "code",
            "execution_count": 57,
            "metadata": {},
            "outputs": [
                {
                    "data": {
                        "text/plain": [
                            "[0, 3, 8, -4, 9, 3, 2]"
                        ]
                    },
                    "execution_count": 57,
                    "metadata": {},
                    "output_type": "execute_result"
                }
            ],
            "source": [
                "numbera"
            ]
        },
        {
            "cell_type": "code",
            "execution_count": 61,
            "metadata": {},
            "outputs": [],
            "source": [
                "def isEven(numbera):\n",
                "    if numbera % 2 == 0:\n",
                "        print(f'This numbera,{numbera} is even!')\n",
                "        return True\n",
                "    else:\n",
                "        print(f'This numbera,{numbera} is odd!')\n",
                "        return False\n"
            ]
        },
        {
            "cell_type": "code",
            "execution_count": 62,
            "metadata": {},
            "outputs": [
                {
                    "name": "stdout",
                    "output_type": "stream",
                    "text": [
                        "This numbera,0 is even!\n",
                        "This numbera,3 is odd!\n",
                        "This numbera,8 is even!\n",
                        "This numbera,-4 is even!\n",
                        "This numbera,9 is odd!\n",
                        "This numbera,3 is odd!\n",
                        "This numbera,2 is even!\n"
                    ]
                },
                {
                    "data": {
                        "text/plain": [
                            "[0, 8, -4, 2]"
                        ]
                    },
                    "execution_count": 62,
                    "metadata": {},
                    "output_type": "execute_result"
                }
            ],
            "source": [
                "list(filter(isEven,numbera))"
            ]
        },
        {
            "cell_type": "code",
            "execution_count": 63,
            "metadata": {},
            "outputs": [
                {
                    "data": {
                        "text/plain": [
                            "3"
                        ]
                    },
                    "execution_count": 63,
                    "metadata": {},
                    "output_type": "execute_result"
                }
            ],
            "source": [
                "numbera.index(-4)"
            ]
        },
        {
            "cell_type": "code",
            "execution_count": 64,
            "metadata": {},
            "outputs": [
                {
                    "data": {
                        "text/plain": [
                            "[-4, 0, 2, 3, 3, 8, 9]"
                        ]
                    },
                    "execution_count": 64,
                    "metadata": {},
                    "output_type": "execute_result"
                }
            ],
            "source": [
                "numbera.sort()\n",
                "numbera\n"
            ]
        },
        {
            "cell_type": "code",
            "execution_count": 65,
            "metadata": {},
            "outputs": [
                {
                    "data": {
                        "text/plain": [
                            "[9, 8, 3, 3, 2, 0, -4]"
                        ]
                    },
                    "execution_count": 65,
                    "metadata": {},
                    "output_type": "execute_result"
                }
            ],
            "source": [
                "numbera.sort( reverse=True)\n",
                "numbera\n"
            ]
        },
        {
            "cell_type": "code",
            "execution_count": 66,
            "metadata": {},
            "outputs": [
                {
                    "data": {
                        "text/plain": [
                            "{'A': '今西', 'B': '航平', 'C': '男性', 'D': '東京都', 'E': '海外旅行'}"
                        ]
                    },
                    "execution_count": 66,
                    "metadata": {},
                    "output_type": "execute_result"
                }
            ],
            "source": [
                "dictionary = {\n",
                "    \"A\":\"今西\",\n",
                "    \"B\":\"航平\",\n",
                "    \"C\":\"男性\",\n",
                "    \"D\":\"東京都\",\n",
                "    \"E\":\"海外旅行\",\n",
                "}\n",
                "dictionary"
            ]
        },
        {
            "cell_type": "code",
            "execution_count": 67,
            "metadata": {},
            "outputs": [
                {
                    "data": {
                        "text/plain": [
                            "'今西'"
                        ]
                    },
                    "execution_count": 67,
                    "metadata": {},
                    "output_type": "execute_result"
                }
            ],
            "source": [
                "dictionary.pop(\"A\")"
            ]
        },
        {
            "cell_type": "code",
            "execution_count": 68,
            "metadata": {},
            "outputs": [
                {
                    "data": {
                        "text/plain": [
                            "{'B': '航平', 'C': '男性', 'D': '東京都', 'E': '海外旅行'}"
                        ]
                    },
                    "execution_count": 68,
                    "metadata": {},
                    "output_type": "execute_result"
                }
            ],
            "source": [
                "dictionary\n"
            ]
        },
        {
            "cell_type": "code",
            "execution_count": 69,
            "metadata": {},
            "outputs": [
                {
                    "data": {
                        "text/plain": [
                            "'航平'"
                        ]
                    },
                    "execution_count": 69,
                    "metadata": {},
                    "output_type": "execute_result"
                }
            ],
            "source": [
                "dictionary.pop(\"B\")\n"
            ]
        },
        {
            "cell_type": "code",
            "execution_count": 70,
            "metadata": {},
            "outputs": [
                {
                    "data": {
                        "text/plain": [
                            "{'C': '男性', 'D': '東京都', 'E': '海外旅行'}"
                        ]
                    },
                    "execution_count": 70,
                    "metadata": {},
                    "output_type": "execute_result"
                }
            ],
            "source": [
                "dictionary\n"
            ]
        },
        {
            "cell_type": "code",
            "execution_count": 71,
            "metadata": {},
            "outputs": [],
            "source": [
                "dictionary.clear()\n"
            ]
        },
        {
            "cell_type": "code",
            "execution_count": 72,
            "metadata": {},
            "outputs": [
                {
                    "data": {
                        "text/plain": [
                            "{}"
                        ]
                    },
                    "execution_count": 72,
                    "metadata": {},
                    "output_type": "execute_result"
                }
            ],
            "source": [
                "dictionary\n"
            ]
        },
        {
            "cell_type": "code",
            "execution_count": 73,
            "metadata": {},
            "outputs": [
                {
                    "data": {
                        "text/plain": [
                            "{'A': '今西', 'B': '航平', 'C': '男性', 'D': '東京都', 'E': '海外旅行'}"
                        ]
                    },
                    "execution_count": 73,
                    "metadata": {},
                    "output_type": "execute_result"
                }
            ],
            "source": [
                "dictionary = {\n",
                "    \"A\": \"今西\",\n",
                "    \"B\": \"航平\",\n",
                "    \"C\": \"男性\",\n",
                "    \"D\": \"東京都\",\n",
                "    \"E\": \"海外旅行\",\n",
                "}\n",
                "dictionary"
            ]
        },
        {
            "cell_type": "code",
            "execution_count": 75,
            "metadata": {},
            "outputs": [
                {
                    "data": {
                        "text/plain": [
                            "dict_keys(['A', 'B', 'C', 'D', 'E'])"
                        ]
                    },
                    "execution_count": 75,
                    "metadata": {},
                    "output_type": "execute_result"
                }
            ],
            "source": [
                "dictionary.keys()"
            ]
        },
        {
            "cell_type": "code",
            "execution_count": 76,
            "metadata": {},
            "outputs": [
                {
                    "data": {
                        "text/plain": [
                            "dict_values(['今西', '航平', '男性', '東京都', '海外旅行'])"
                        ]
                    },
                    "execution_count": 76,
                    "metadata": {},
                    "output_type": "execute_result"
                }
            ],
            "source": [
                "dictionary.values()"
            ]
        },
        {
            "cell_type": "code",
            "execution_count": 77,
            "metadata": {},
            "outputs": [
                {
                    "data": {
                        "text/plain": [
                            "True"
                        ]
                    },
                    "execution_count": 77,
                    "metadata": {},
                    "output_type": "execute_result"
                }
            ],
            "source": [
                "\"男性\" in dictionary.values()"
            ]
        },
        {
            "cell_type": "code",
            "execution_count": 89,
            "metadata": {},
            "outputs": [
                {
                    "name": "stdout",
                    "output_type": "stream",
                    "text": [
                        "キーはA,バリューは今西\n",
                        "キーはB,バリューは航平\n",
                        "キーはC,バリューは男性\n",
                        "キーはD,バリューは東京都\n",
                        "キーはE,バリューは海外旅行\n"
                    ]
                }
            ],
            "source": [
                "for key,values in dictionary.items():\n",
                "    print(f\"キーは{key},バリューは{values}\")"
            ]
        },
        {
            "cell_type": "code",
            "execution_count": 96,
            "metadata": {},
            "outputs": [
                {
                    "data": {
                        "text/plain": [
                            "'海外旅行'"
                        ]
                    },
                    "execution_count": 96,
                    "metadata": {},
                    "output_type": "execute_result"
                }
            ],
            "source": [
                "dictionary.get(\"E\")"
            ]
        },
        {
            "cell_type": "code",
            "execution_count": 101,
            "metadata": {},
            "outputs": [
                {
                    "name": "stdout",
                    "output_type": "stream",
                    "text": [
                        "負の値です\n"
                    ]
                }
            ],
            "source": [
                "num = -1\n",
                "if num > 0:\n",
                "    print(\"正の値です\")\n",
                "elif num == 0:\n",
                "    print(\"値は０です\")\n",
                "else:\n",
                "    print(\"負の値です\")"
            ]
        },
        {
            "cell_type": "code",
            "execution_count": 104,
            "metadata": {},
            "outputs": [
                {
                    "name": "stdout",
                    "output_type": "stream",
                    "text": [
                        "一桁の偶数\n"
                    ]
                }
            ],
            "source": [
                "a = 4\n",
                "if 0 <= a < 10 and a % 2 == 0:\n",
                "    print(\"一桁の偶数\")\n",
                "elif a < 0 and a % 2 == 1:\n",
                "    print(\"負の奇数\")\n",
                "else:\n",
                "    print(\"整数\")"
            ]
        },
        {
            "cell_type": "code",
            "execution_count": 105,
            "metadata": {},
            "outputs": [],
            "source": [
                "names = [\"John\",\"Kevin\",\"Louis\"]"
            ]
        },
        {
            "cell_type": "code",
            "execution_count": 107,
            "metadata": {},
            "outputs": [
                {
                    "name": "stdout",
                    "output_type": "stream",
                    "text": [
                        "John\n",
                        "Kevin\n",
                        "Louis\n"
                    ]
                }
            ],
            "source": [
                "for  name in names:\n",
                "    print(name)"
            ]
        },
        {
            "cell_type": "code",
            "execution_count": 108,
            "metadata": {},
            "outputs": [
                {
                    "name": "stdout",
                    "output_type": "stream",
                    "text": [
                        "0\n",
                        "1\n",
                        "2\n",
                        "3\n",
                        "4\n",
                        "5\n",
                        "6\n",
                        "7\n",
                        "8\n",
                        "9\n"
                    ]
                }
            ],
            "source": [
                "for i in range(10):\n",
                "    print(i)"
            ]
        },
        {
            "cell_type": "code",
            "execution_count": 109,
            "metadata": {},
            "outputs": [
                {
                    "name": "stdout",
                    "output_type": "stream",
                    "text": [
                        "0\n",
                        "1\n",
                        "2\n",
                        "3\n",
                        "4\n",
                        "5\n",
                        "終了！\n"
                    ]
                }
            ],
            "source": [
                "for i in range(10):\n",
                "    if i == 6:\n",
                "        print(\"終了！\")\n",
                "        break\n",
                "    print(i)\n"
            ]
        },
        {
            "cell_type": "code",
            "execution_count": 110,
            "metadata": {},
            "outputs": [
                {
                    "name": "stdout",
                    "output_type": "stream",
                    "text": [
                        "0\n",
                        "1\n",
                        "2\n",
                        "4\n",
                        "5\n",
                        "6\n",
                        "7\n",
                        "8\n",
                        "9\n"
                    ]
                }
            ],
            "source": [
                "for i in range(10):\n",
                "    if i == 3:\n",
                "        continue\n",
                "    print(i)\n"
            ]
        },
        {
            "cell_type": "code",
            "execution_count": 111,
            "metadata": {},
            "outputs": [
                {
                    "name": "stdout",
                    "output_type": "stream",
                    "text": [
                        "加藤雄一\n",
                        "佐藤拓也\n",
                        "田中太郎\n"
                    ]
                }
            ],
            "source": [
                "lasts = [\"加藤\",\"佐藤\",\"田中\"]\n",
                "firsts = [\"雄一\",\"拓也\",\"太郎\"]\n",
                "\n",
                "for last, first in zip(lasts,firsts):\n",
                "    print(last+first)"
            ]
        },
        {
            "cell_type": "code",
            "execution_count": 112,
            "metadata": {},
            "outputs": [],
            "source": [
                "lasts = [\"加藤\", \"佐藤\", \"田中\"]"
            ]
        },
        {
            "cell_type": "code",
            "execution_count": 113,
            "metadata": {},
            "outputs": [
                {
                    "name": "stdout",
                    "output_type": "stream",
                    "text": [
                        "0番目の加藤です。\n",
                        "1番目の佐藤です。\n",
                        "2番目の田中です。\n"
                    ]
                }
            ],
            "source": [
                "for i, last in enumerate(lasts):\n",
                "    print(f\"{i}番目の{last}です。\")"
            ]
        },
        {
            "cell_type": "code",
            "execution_count": 115,
            "metadata": {},
            "outputs": [
                {
                    "data": {
                        "text/plain": [
                            "[]"
                        ]
                    },
                    "execution_count": 115,
                    "metadata": {},
                    "output_type": "execute_result"
                }
            ],
            "source": [
                "nums = []\n",
                "nums"
            ]
        },
        {
            "cell_type": "code",
            "execution_count": 116,
            "metadata": {},
            "outputs": [
                {
                    "data": {
                        "text/plain": [
                            "[0, 2, 4, 6, 8]"
                        ]
                    },
                    "execution_count": 116,
                    "metadata": {},
                    "output_type": "execute_result"
                }
            ],
            "source": [
                "for i in range(5):\n",
                "    nums.append(2*i)\n",
                "nums"
            ]
        },
        {
            "cell_type": "code",
            "execution_count": 117,
            "metadata": {},
            "outputs": [
                {
                    "data": {
                        "text/plain": [
                            "[0, 2, 4, 6, 8]"
                        ]
                    },
                    "execution_count": 117,
                    "metadata": {},
                    "output_type": "execute_result"
                }
            ],
            "source": [
                "numbers = [2*i for i in range(5)]\n",
                "numbers"
            ]
        },
        {
            "cell_type": "code",
            "execution_count": 126,
            "metadata": {},
            "outputs": [
                {
                    "name": "stdout",
                    "output_type": "stream",
                    "text": [
                        "エラー\n"
                    ]
                }
            ],
            "source": [
                "num = 0\n",
                "try:\n",
                "    print(f\"計算結果:{10/num}\")\n",
                "except:\n",
                "    print(\"エラー\")"
            ]
        },
        {
            "cell_type": "code",
            "execution_count": 134,
            "metadata": {},
            "outputs": [
                {
                    "name": "stdout",
                    "output_type": "stream",
                    "text": [
                        "division by zero\n"
                    ]
                }
            ],
            "source": [
                "num = 0\n",
                "try:\n",
                "    print(f\"計算結果:{10/num}\")\n",
                "except ZeroDivisionError as e:\n",
                "    print(e)\n",
                "\n"
            ]
        },
        {
            "cell_type": "code",
            "execution_count": 144,
            "metadata": {},
            "outputs": [],
            "source": [
                "def divide(a,b):\n",
                "    try:\n",
                "        print(f'計算結果: {a/b}')\n",
                "    except ZeroDivisionError as e:\n",
                "        print(e)\n",
                "    except TypeError as e:\n",
                "        print(e)"
            ]
        },
        {
            "cell_type": "code",
            "execution_count": 146,
            "metadata": {},
            "outputs": [
                {
                    "name": "stdout",
                    "output_type": "stream",
                    "text": [
                        "division by zero\n"
                    ]
                }
            ],
            "source": [
                "divide(10, 0)"
            ]
        },
        {
            "cell_type": "code",
            "execution_count": 147,
            "metadata": {},
            "outputs": [],
            "source": [
                "def divide(a, b):\n",
                "    try:\n",
                "        print(f'計算結果: {a/b}')\n",
                "    except ZeroDivisionError as e:\n",
                "        print(e)\n",
                "    except TypeError as e:\n",
                "        print(e)\n",
                "    else:\n",
                "        print(\"正常に終了しました\")\n"
            ]
        },
        {
            "cell_type": "code",
            "execution_count": 148,
            "metadata": {},
            "outputs": [
                {
                    "name": "stdout",
                    "output_type": "stream",
                    "text": [
                        "計算結果: 5.0\n",
                        "正常に終了しました\n"
                    ]
                }
            ],
            "source": [
                "divide(10, 2)\n"
            ]
        },
        {
            "cell_type": "code",
            "execution_count": 153,
            "metadata": {},
            "outputs": [],
            "source": [
                "def divide(a, b):\n",
                "    try:\n",
                "        print(f'計算結果: {a/b}')\n",
                "    except ZeroDivisionError as e:\n",
                "        print(e)\n",
                "    except TypeError as e:\n",
                "        pass\n",
                "    finally:\n",
                "        print(\"全ての処理が終了しました\")\n"
            ]
        },
        {
            "cell_type": "code",
            "execution_count": 155,
            "metadata": {},
            "outputs": [
                {
                    "name": "stdout",
                    "output_type": "stream",
                    "text": [
                        "division by zero\n",
                        "全ての処理が終了しました\n"
                    ]
                }
            ],
            "source": [
                "divide(10, 0)\n"
            ]
        },
        {
            "cell_type": "markdown",
            "metadata": {},
            "source": [
                "38.class"
            ]
        },
        {
            "cell_type": "code",
            "execution_count": 156,
            "metadata": {},
            "outputs": [],
            "source": [
                "class Person:\n",
                "    nationality = \"Japan\"\n",
                "\n",
                "    def say_hallo(self):\n",
                "        print(f'こんにちは、私の国籍は、{self.nationality}です。')\n"
            ]
        },
        {
            "cell_type": "code",
            "execution_count": 157,
            "metadata": {},
            "outputs": [],
            "source": [
                "Person = Person()"
            ]
        },
        {
            "cell_type": "code",
            "execution_count": 158,
            "metadata": {},
            "outputs": [
                {
                    "data": {
                        "text/plain": [
                            "'Japan'"
                        ]
                    },
                    "execution_count": 158,
                    "metadata": {},
                    "output_type": "execute_result"
                }
            ],
            "source": [
                "Person.natinality"
            ]
        },
        {
            "cell_type": "code",
            "execution_count": 159,
            "metadata": {},
            "outputs": [
                {
                    "name": "stdout",
                    "output_type": "stream",
                    "text": [
                        "こんにちは、私の国籍は、Japanです。\n"
                    ]
                }
            ],
            "source": [
                "Person.say_hallo()"
            ]
        },
        {
            "cell_type": "code",
            "execution_count": 163,
            "metadata": {},
            "outputs": [],
            "source": [
                "class Person:\n",
                "    nationality = \"Japan\"\n",
                "\n",
                "    def __init__(self,name):\n",
                "        self.name = name\n",
                "\n",
                "    def say_hello(self):\n",
                "        print(f'こんにちは、私の国籍は、{self.nationality}です。')\n",
                "    \n",
                "    def say_my_name(self):\n",
                "        print(f'私の名前は{self.name}です。')\n",
                "\n"
            ]
        },
        {
            "cell_type": "code",
            "execution_count": 164,
            "metadata": {},
            "outputs": [],
            "source": [
                "imanishi = Person(\"今西\")"
            ]
        },
        {
            "cell_type": "code",
            "execution_count": 165,
            "metadata": {},
            "outputs": [
                {
                    "data": {
                        "text/plain": [
                            "'Japan'"
                        ]
                    },
                    "execution_count": 165,
                    "metadata": {},
                    "output_type": "execute_result"
                }
            ],
            "source": [
                "imanishi.nationality"
            ]
        },
        {
            "cell_type": "code",
            "execution_count": 167,
            "metadata": {},
            "outputs": [
                {
                    "data": {
                        "text/plain": [
                            "'今西'"
                        ]
                    },
                    "execution_count": 167,
                    "metadata": {},
                    "output_type": "execute_result"
                }
            ],
            "source": [
                "imanishi.name\n"
            ]
        },
        {
            "cell_type": "code",
            "execution_count": 168,
            "metadata": {},
            "outputs": [
                {
                    "name": "stdout",
                    "output_type": "stream",
                    "text": [
                        "私の名前は今西です。\n"
                    ]
                }
            ],
            "source": [
                "imanishi.say_my_name()"
            ]
        },
        {
            "cell_type": "code",
            "execution_count": 169,
            "metadata": {},
            "outputs": [],
            "source": [
                "class kid(Person):\n",
                "    def say_hello(self,age):\n",
                "        print(f'私の名前は{self.name}です。年齢は{age}歳です。')\n"
            ]
        },
        {
            "cell_type": "code",
            "execution_count": 170,
            "metadata": {},
            "outputs": [],
            "source": [
                "kid = kid(\"けんすけ\")"
            ]
        },
        {
            "cell_type": "code",
            "execution_count": 171,
            "metadata": {},
            "outputs": [
                {
                    "data": {
                        "text/plain": [
                            "'けんすけ'"
                        ]
                    },
                    "execution_count": 171,
                    "metadata": {},
                    "output_type": "execute_result"
                }
            ],
            "source": [
                "kid.name"
            ]
        },
        {
            "cell_type": "code",
            "execution_count": 173,
            "metadata": {},
            "outputs": [
                {
                    "data": {
                        "text/plain": [
                            "'Japan'"
                        ]
                    },
                    "execution_count": 173,
                    "metadata": {},
                    "output_type": "execute_result"
                }
            ],
            "source": [
                "kid.nationality"
            ]
        },
        {
            "cell_type": "code",
            "execution_count": 174,
            "metadata": {},
            "outputs": [
                {
                    "name": "stdout",
                    "output_type": "stream",
                    "text": [
                        "私の名前はけんすけです。年齢は12歳です。\n"
                    ]
                }
            ],
            "source": [
                "kid.say_hello(12)"
            ]
        },
        {
            "cell_type": "markdown",
            "metadata": {},
            "source": [
                "41外部からのアクセス拒否　パブリックとプライベート"
            ]
        },
        {
            "cell_type": "code",
            "execution_count": 176,
            "metadata": {},
            "outputs": [],
            "source": [
                "class Person:\n",
                "    __nationality = \"Japan\"\n",
                "\n",
                "    def __init__(self, name):\n",
                "        self.name = name\n",
                "\n",
                "    def say_hello(self):\n",
                "        print(f'こんにちは、私の国籍は、{self.nationality}です。')\n",
                "\n",
                "    def __say_my_name(self):\n",
                "        print(f'私の名前は{self.name}です。')\n"
            ]
        },
        {
            "cell_type": "code",
            "execution_count": 177,
            "metadata": {},
            "outputs": [],
            "source": [
                "imanishi = Person(\"今西\")\n"
            ]
        },
        {
            "cell_type": "code",
            "execution_count": 181,
            "metadata": {},
            "outputs": [
                {
                    "data": {
                        "text/plain": [
                            "'今西'"
                        ]
                    },
                    "execution_count": 181,
                    "metadata": {},
                    "output_type": "execute_result"
                }
            ],
            "source": [
                "imanishi.name\n"
            ]
        },
        {
            "cell_type": "code",
            "execution_count": 183,
            "metadata": {},
            "outputs": [
                {
                    "ename": "AttributeError",
                    "evalue": "'Person' object has no attribute '__nationality'",
                    "output_type": "error",
                    "traceback": [
                        "\u001b[0;31m---------------------------------------------------------------------------\u001b[0m",
                        "\u001b[0;31mAttributeError\u001b[0m                            Traceback (most recent call last)",
                        "\u001b[0;32m<ipython-input-183-5326c057ff24>\u001b[0m in \u001b[0;36m<module>\u001b[0;34m\u001b[0m\n\u001b[0;32m----> 1\u001b[0;31m \u001b[0mimanishi\u001b[0m\u001b[0;34m.\u001b[0m\u001b[0m__nationality\u001b[0m\u001b[0;34m\u001b[0m\u001b[0;34m\u001b[0m\u001b[0m\n\u001b[0m",
                        "\u001b[0;31mAttributeError\u001b[0m: 'Person' object has no attribute '__nationality'"
                    ]
                }
            ],
            "source": [
                "imanishi.__nationality\n"
            ]
        },
        {
            "cell_type": "markdown",
            "metadata": {},
            "source": [
                "42.ファイル読み込み"
            ]
        },
        {
            "cell_type": "code",
            "execution_count": 8,
            "metadata": {},
            "outputs": [],
            "source": [
                "file = open(\"sample.txt\", \"r\" )\n",
                "text = file.read()\n",
                "file.close()"
            ]
        },
        {
            "cell_type": "code",
            "execution_count": 9,
            "metadata": {},
            "outputs": [
                {
                    "name": "stdout",
                    "output_type": "stream",
                    "text": [
                        "はじめまして、\n",
                        "石橋です\n",
                        "Python勉強中です\n",
                        "がんばります。\n",
                        "\n"
                    ]
                }
            ],
            "source": [
                "print(text)"
            ]
        },
        {
            "cell_type": "code",
            "execution_count": 6,
            "metadata": {},
            "outputs": [],
            "source": [
                "with open(\"sample.txt\", \"r\") as f:\n",
                "    text = f.read()"
            ]
        },
        {
            "cell_type": "code",
            "execution_count": 7,
            "metadata": {},
            "outputs": [
                {
                    "name": "stdout",
                    "output_type": "stream",
                    "text": [
                        "はじめまして、\n",
                        "石橋です\n",
                        "Python勉強中です\n",
                        "がんばります。\n",
                        "\n"
                    ]
                }
            ],
            "source": [
                "print(text)"
            ]
        },
        {
            "cell_type": "code",
            "execution_count": 17,
            "metadata": {},
            "outputs": [],
            "source": [
                "import json"
            ]
        },
        {
            "cell_type": "code",
            "execution_count": 19,
            "metadata": {},
            "outputs": [],
            "source": [
                "with open(\"sample.json\", \"r\") as f:\n",
                "    data = json.load(f)"
            ]
        },
        {
            "cell_type": "code",
            "execution_count": 24,
            "metadata": {},
            "outputs": [
                {
                    "data": {
                        "text/plain": [
                            "{'store_name': '神田店',\n",
                            " 'items': [{'item_id': 0, 'item_name': 'コーラ'},\n",
                            "  {'item_id': 1, 'item_name': '唐揚げ弁当'},\n",
                            "  {'item_id': 2, 'item_name': '週刊誌'}]}"
                        ]
                    },
                    "execution_count": 24,
                    "metadata": {},
                    "output_type": "execute_result"
                }
            ],
            "source": [
                "data"
            ]
        },
        {
            "cell_type": "code",
            "execution_count": 25,
            "metadata": {},
            "outputs": [
                {
                    "data": {
                        "text/plain": [
                            "'神田店'"
                        ]
                    },
                    "execution_count": 25,
                    "metadata": {},
                    "output_type": "execute_result"
                }
            ],
            "source": [
                "data[\"store_name\"]"
            ]
        },
        {
            "cell_type": "markdown",
            "metadata": {},
            "source": [
                "45.pythonでosを操作"
            ]
        },
        {
            "cell_type": "code",
            "execution_count": 26,
            "metadata": {},
            "outputs": [],
            "source": [
                "import os"
            ]
        },
        {
            "cell_type": "code",
            "execution_count": 31,
            "metadata": {},
            "outputs": [
                {
                    "name": "stdout",
                    "output_type": "stream",
                    "text": [
                        "./['.DS_Store', 'Untitled-1.ipynb', 'test.ipynb.py', 'sample.json', 'sample.txt']\n",
                        "./['.DS_Store', 'Untitled-1.ipynb', 'test.ipynb.py', 'sample.json', 'sample.txt']\n",
                        "./['.DS_Store', 'Untitled-1.ipynb', 'test.ipynb.py', 'sample.json', 'sample.txt']\n",
                        "./['.DS_Store', 'Untitled-1.ipynb', 'test.ipynb.py', 'sample.json', 'sample.txt']\n",
                        "./['.DS_Store', 'Untitled-1.ipynb', 'test.ipynb.py', 'sample.json', 'sample.txt']\n"
                    ]
                }
            ],
            "source": [
                "for curDir, dirs, files in os.walk(\".\"):\n",
                "    for file in files:\n",
                "        print(f'{curDir}/{files}')\n",
                "    "
            ]
        },
        {
            "cell_type": "code",
            "execution_count": 37,
            "metadata": {},
            "outputs": [
                {
                    "data": {
                        "text/plain": [
                            "['.DS_Store', 'Untitled-1.ipynb', 'sample.json', 'sample.txt', 'test.ipynb.py']"
                        ]
                    },
                    "execution_count": 37,
                    "metadata": {},
                    "output_type": "execute_result"
                }
            ],
            "source": [
                "lists = os.listdir(\".\")\n",
                "lists.sort()\n",
                "lists"
            ]
        },
        {
            "cell_type": "markdown",
            "metadata": {},
            "source": [
                "47.絶対パスを含んだファイル名の取得"
            ]
        },
        {
            "cell_type": "code",
            "execution_count": 38,
            "metadata": {},
            "outputs": [
                {
                    "data": {
                        "text/plain": [
                            "'/Users/ishibashitakafumi/Desktop/python/Untitled-1.ipynb'"
                        ]
                    },
                    "execution_count": 38,
                    "metadata": {},
                    "output_type": "execute_result"
                }
            ],
            "source": [
                "os.path.abspath(\"./Untitled-1.ipynb\")"
            ]
        },
        {
            "cell_type": "code",
            "execution_count": 39,
            "metadata": {},
            "outputs": [
                {
                    "data": {
                        "text/plain": [
                            "'Untitled-1.ipynb'"
                        ]
                    },
                    "execution_count": 39,
                    "metadata": {},
                    "output_type": "execute_result"
                }
            ],
            "source": [
                "os.path.basename(\"./Untitled-1.ipynb\")"
            ]
        },
        {
            "cell_type": "code",
            "execution_count": 40,
            "metadata": {},
            "outputs": [
                {
                    "data": {
                        "text/plain": [
                            "False"
                        ]
                    },
                    "execution_count": 40,
                    "metadata": {},
                    "output_type": "execute_result"
                }
            ],
            "source": [
                "os.path.exists(\"xyz/\")"
            ]
        },
        {
            "cell_type": "code",
            "execution_count": 41,
            "metadata": {},
            "outputs": [
                {
                    "data": {
                        "text/plain": [
                            "True"
                        ]
                    },
                    "execution_count": 41,
                    "metadata": {},
                    "output_type": "execute_result"
                }
            ],
            "source": [
                "os.path.exists(\"./Untitled-1.ipynb\")"
            ]
        },
        {
            "cell_type": "code",
            "execution_count": 51,
            "metadata": {},
            "outputs": [
                {
                    "data": {
                        "text/plain": [
                            "True"
                        ]
                    },
                    "execution_count": 51,
                    "metadata": {},
                    "output_type": "execute_result"
                }
            ],
            "source": [
                "os.path.isdir(\"test\")\n"
            ]
        },
        {
            "cell_type": "code",
            "execution_count": 52,
            "metadata": {},
            "outputs": [
                {
                    "data": {
                        "text/plain": [
                            "True"
                        ]
                    },
                    "execution_count": 52,
                    "metadata": {},
                    "output_type": "execute_result"
                }
            ],
            "source": [
                "os.path.isfile(\"./Untitled-1.ipynb\")\n"
            ]
        },
        {
            "cell_type": "code",
            "execution_count": 54,
            "metadata": {},
            "outputs": [
                {
                    "name": "stdout",
                    "output_type": "stream",
                    "text": [
                        "./.DS_Store\n",
                        "./Untitled-1.ipynb\n",
                        "./test.ipynb.py\n",
                        "./sample.json\n",
                        "./sample.txt\n"
                    ]
                }
            ],
            "source": [
                "for curDir, dirs, files in os.walk(\".\"):\n",
                "    for file in files:\n",
                "        print(os.path.join(curDir,file))\n"
            ]
        },
        {
            "cell_type": "markdown",
            "metadata": {},
            "source": [
                "53.ディレクトリ作成"
            ]
        },
        {
            "cell_type": "code",
            "execution_count": 55,
            "metadata": {},
            "outputs": [],
            "source": [
                "os.mkdir(\"imanyu\")"
            ]
        },
        {
            "cell_type": "markdown",
            "metadata": {},
            "source": [
                "54.ファイル削除"
            ]
        },
        {
            "cell_type": "code",
            "execution_count": 58,
            "metadata": {},
            "outputs": [],
            "source": [
                "os.remove(\"sample copy.txt\")"
            ]
        },
        {
            "cell_type": "markdown",
            "metadata": {},
            "source": [
                "55.ファイルの名前変更"
            ]
        },
        {
            "cell_type": "code",
            "execution_count": 59,
            "metadata": {},
            "outputs": [],
            "source": [
                "os.rename(\"imanyu\",\"yamada\")"
            ]
        },
        {
            "cell_type": "markdown",
            "metadata": {},
            "source": [
                "56.環境変数の確認"
            ]
        },
        {
            "cell_type": "code",
            "execution_count": 66,
            "metadata": {},
            "outputs": [
                {
                    "data": {
                        "text/plain": [
                            "'/Users/ishibashitakafumi/opt/anaconda3/envs/testpy/bin:/Users/ishibashitakafumi/opt/anaconda3/condabin:/Library/Frameworks/Python.framework/Versions/3.9/bin:/Users/ishibashitakafumi/.nodebrew/current/bin:/Users/ishibashitakafumi/.nodebrew/current/bin:/usr/local/bin:/usr/bin:/bin:/usr/sbin:/sbin:/Library/Apple/usr/bin:/Library/Frameworks/Mono.framework/Versions/Current/Commands'"
                        ]
                    },
                    "execution_count": 66,
                    "metadata": {},
                    "output_type": "execute_result"
                }
            ],
            "source": [
                "os.environ[\"PATH\"]"
            ]
        },
        {
            "cell_type": "markdown",
            "metadata": {},
            "source": [
                "57.Unixコマンド"
            ]
        },
        {
            "cell_type": "code",
            "execution_count": 67,
            "metadata": {},
            "outputs": [
                {
                    "data": {
                        "text/plain": [
                            "0"
                        ]
                    },
                    "execution_count": 67,
                    "metadata": {},
                    "output_type": "execute_result"
                }
            ],
            "source": [
                "os.system(\"ls -a\")\n"
            ]
        },
        {
            "cell_type": "code",
            "execution_count": 69,
            "metadata": {},
            "outputs": [
                {
                    "name": "stdout",
                    "output_type": "stream",
                    "text": [
                        ".\n",
                        "..\n",
                        ".DS_Store\n",
                        "Untitled-1.ipynb\n",
                        "sample.json\n",
                        "sample.txt\n",
                        "test\n",
                        "test.ipynb.py\n",
                        "yamada\n",
                        "\n"
                    ]
                }
            ],
            "source": [
                "print(os.popen(\"ls -a\").read())"
            ]
        },
        {
            "cell_type": "code",
            "execution_count": 70,
            "metadata": {},
            "outputs": [
                {
                    "name": "stdout",
                    "output_type": "stream",
                    "text": [
                        "\u001b[34m.\u001b[m\u001b[m                Untitled-1.ipynb \u001b[34mtest\u001b[m\u001b[m\n",
                        "\u001b[34m..\u001b[m\u001b[m               sample.json      test.ipynb.py\n",
                        ".DS_Store        sample.txt       \u001b[34myamada\u001b[m\u001b[m\n"
                    ]
                }
            ],
            "source": [
                "!ls -a"
            ]
        },
        {
            "cell_type": "code",
            "execution_count": 4,
            "metadata": {},
            "outputs": [
                {
                    "data": {
                        "text/plain": [
                            "2.0"
                        ]
                    },
                    "execution_count": 4,
                    "metadata": {},
                    "output_type": "execute_result"
                }
            ],
            "source": [
                "4.5//1.6"
            ]
        },
        {
            "cell_type": "code",
            "execution_count": 1,
            "metadata": {},
            "outputs": [
                {
                    "ename": "NameError",
                    "evalue": "name 's_1' is not defined",
                    "output_type": "error",
                    "traceback": [
                        "\u001b[0;31m---------------------------------------------------------------------------\u001b[0m",
                        "\u001b[0;31mNameError\u001b[0m                                 Traceback (most recent call last)",
                        "\u001b[0;32m<ipython-input-1-a2ad2b133e95>\u001b[0m in \u001b[0;36m<module>\u001b[0;34m\u001b[0m\n\u001b[0;32m----> 1\u001b[0;31m \u001b[0ms_1\u001b[0m\u001b[0;34m\u001b[0m\u001b[0;34m\u001b[0m\u001b[0m\n\u001b[0m\u001b[1;32m      2\u001b[0m \u001b[0ms\u001b[0m \u001b[0;34m=\u001b[0m \u001b[0minput\u001b[0m\u001b[0;34m(\u001b[0m\u001b[0;34m)\u001b[0m  \u001b[0;31m# 変数 s に　s_1を取得\u001b[0m\u001b[0;34m\u001b[0m\u001b[0;34m\u001b[0m\u001b[0m\n\u001b[1;32m      3\u001b[0m \u001b[0;34m\u001b[0m\u001b[0m\n\u001b[1;32m      4\u001b[0m \u001b[0mprint\u001b[0m\u001b[0;34m(\u001b[0m\u001b[0ms\u001b[0m\u001b[0;34m)\u001b[0m  \u001b[0;31m# 出力:'s_1'\u001b[0m\u001b[0;34m\u001b[0m\u001b[0;34m\u001b[0m\u001b[0m\n",
                        "\u001b[0;31mNameError\u001b[0m: name 's_1' is not defined"
                    ]
                }
            ],
            "source": [
                "s_1"
            ]
        },
        {
            "cell_type": "code",
            "execution_count": 1,
            "metadata": {},
            "outputs": [
                {
                    "ename": "KeyboardInterrupt",
                    "evalue": "Interrupted by user",
                    "output_type": "error",
                    "traceback": [
                        "\u001b[0;31m---------------------------------------------------------------------------\u001b[0m",
                        "\u001b[0;31mKeyboardInterrupt\u001b[0m                         Traceback (most recent call last)",
                        "\u001b[0;32m<ipython-input-1-f635fbe358e9>\u001b[0m in \u001b[0;36m<module>\u001b[0;34m\u001b[0m\n\u001b[0;32m----> 1\u001b[0;31m \u001b[0ms\u001b[0m \u001b[0;34m=\u001b[0m \u001b[0minput\u001b[0m\u001b[0;34m(\u001b[0m\u001b[0;34m)\u001b[0m  \u001b[0;31m# 変数 s に　s_1を取得\u001b[0m\u001b[0;34m\u001b[0m\u001b[0;34m\u001b[0m\u001b[0m\n\u001b[0m\u001b[1;32m      2\u001b[0m \u001b[0mprint\u001b[0m\u001b[0;34m(\u001b[0m\u001b[0ms\u001b[0m\u001b[0;34m)\u001b[0m  \u001b[0;31m# 出力:'s_1'\u001b[0m\u001b[0;34m\u001b[0m\u001b[0;34m\u001b[0m\u001b[0m\n",
                        "\u001b[0;32m~/opt/anaconda3/envs/testpy/lib/python3.8/site-packages/ipykernel/kernelbase.py\u001b[0m in \u001b[0;36mraw_input\u001b[0;34m(self, prompt)\u001b[0m\n\u001b[1;32m    858\u001b[0m                 \u001b[0;34m\"raw_input was called, but this frontend does not support input requests.\"\u001b[0m\u001b[0;34m\u001b[0m\u001b[0;34m\u001b[0m\u001b[0m\n\u001b[1;32m    859\u001b[0m             )\n\u001b[0;32m--> 860\u001b[0;31m         return self._input_request(str(prompt),\n\u001b[0m\u001b[1;32m    861\u001b[0m             \u001b[0mself\u001b[0m\u001b[0;34m.\u001b[0m\u001b[0m_parent_ident\u001b[0m\u001b[0;34m,\u001b[0m\u001b[0;34m\u001b[0m\u001b[0;34m\u001b[0m\u001b[0m\n\u001b[1;32m    862\u001b[0m             \u001b[0mself\u001b[0m\u001b[0;34m.\u001b[0m\u001b[0m_parent_header\u001b[0m\u001b[0;34m,\u001b[0m\u001b[0;34m\u001b[0m\u001b[0;34m\u001b[0m\u001b[0m\n",
                        "\u001b[0;32m~/opt/anaconda3/envs/testpy/lib/python3.8/site-packages/ipykernel/kernelbase.py\u001b[0m in \u001b[0;36m_input_request\u001b[0;34m(self, prompt, ident, parent, password)\u001b[0m\n\u001b[1;32m    902\u001b[0m             \u001b[0;32mexcept\u001b[0m \u001b[0mKeyboardInterrupt\u001b[0m\u001b[0;34m:\u001b[0m\u001b[0;34m\u001b[0m\u001b[0;34m\u001b[0m\u001b[0m\n\u001b[1;32m    903\u001b[0m                 \u001b[0;31m# re-raise KeyboardInterrupt, to truncate traceback\u001b[0m\u001b[0;34m\u001b[0m\u001b[0;34m\u001b[0m\u001b[0;34m\u001b[0m\u001b[0m\n\u001b[0;32m--> 904\u001b[0;31m                 \u001b[0;32mraise\u001b[0m \u001b[0mKeyboardInterrupt\u001b[0m\u001b[0;34m(\u001b[0m\u001b[0;34m\"Interrupted by user\"\u001b[0m\u001b[0;34m)\u001b[0m \u001b[0;32mfrom\u001b[0m \u001b[0;32mNone\u001b[0m\u001b[0;34m\u001b[0m\u001b[0;34m\u001b[0m\u001b[0m\n\u001b[0m\u001b[1;32m    905\u001b[0m             \u001b[0;32mexcept\u001b[0m \u001b[0mException\u001b[0m \u001b[0;32mas\u001b[0m \u001b[0me\u001b[0m\u001b[0;34m:\u001b[0m\u001b[0;34m\u001b[0m\u001b[0;34m\u001b[0m\u001b[0m\n\u001b[1;32m    906\u001b[0m                 \u001b[0mself\u001b[0m\u001b[0;34m.\u001b[0m\u001b[0mlog\u001b[0m\u001b[0;34m.\u001b[0m\u001b[0mwarning\u001b[0m\u001b[0;34m(\u001b[0m\u001b[0;34m\"Invalid Message:\"\u001b[0m\u001b[0;34m,\u001b[0m \u001b[0mexc_info\u001b[0m\u001b[0;34m=\u001b[0m\u001b[0;32mTrue\u001b[0m\u001b[0;34m)\u001b[0m\u001b[0;34m\u001b[0m\u001b[0;34m\u001b[0m\u001b[0m\n",
                        "\u001b[0;31mKeyboardInterrupt\u001b[0m: Interrupted by user"
                    ]
                }
            ],
            "source": [
                "s = input()  # 変数 s に　s_1を取得\n",
                "print(s)  # 出力:'s_1'\n"
            ]
        },
        {
            "cell_type": "code",
            "execution_count": null,
            "metadata": {},
            "outputs": [
                {
                    "ename": "NameError",
                    "evalue": "name 'datetime' is not defined",
                    "output_type": "error",
                    "traceback": [
                        "\u001b[0;31m---------------------------------------------------------------------------\u001b[0m",
                        "\u001b[0;31mNameError\u001b[0m                                 Traceback (most recent call last)",
                        "\u001b[0;32m<ipython-input-7-c9f92d8faa77>\u001b[0m in \u001b[0;36m<module>\u001b[0;34m\u001b[0m\n\u001b[0;32m----> 1\u001b[0;31m python_table = {'python_id': 45, 'photo_id': 136, 'thema_Id': 1, 'contributor_id': 5, 'posted_at': 'photoup/202110011927437fc57892ff46987553aa28b3b6723813.jpeg', 'php_point': 16.6667, 'python_point': 0.0, 'photo_table.photo_id': 136, 'thema_id': 1, 'photo_table.contributor_id': 5, 'photo_table.posted_at': 'photoup/202110011927437fc57892ff46987553aa28b3b6723813.jpeg',  'point': 0.0}, {'python_id': 46, 'photo_id': 137, 'thema_Id': 1, 'contributor_id': 6, 'posted_at': 'photoup/2021100119324480d476c805ba358f32f3d7decc389ed4.jpeg', 'php_point': 16.6667, 'python_point': 0.0, 'photo_table.photo_id': 137, 'thema_id': 1, 'photo_table.contributor_id': 6, 'photo_table.posted_at': 'photoup/2021100119324480d476c805ba358f32f3d7decc389ed4.jpeg', 'come_updated_at': datetime.datetime(2021, 10, 2, 2, 32, 44), 'point': 0.0}, {'python_id': 47, 'photo_id': 138, 'thema_Id': 1, 'contributor_id': 25, 'posted_at': 'photoup/202110012116116f29d58fdbbc65808277be18f2c808e6.jpeg', 'php_point': 0.0, 'python_point': 0.0, 'photo_table.photo_id': 138, 'thema_id': 1, 'photo_table.contributor_id': 25, 'photo_table.posted_at': 'photoup/202110012116116f29d58fdbbc65808277be18f2c808e6.jpeg', 'come_updated_at': datetime.datetime(\n\u001b[0m\u001b[1;32m      2\u001b[0m     2021, 10, 2, 4, 16, 11), 'point': 0.0}, {'python_id': 48, 'photo_id': 139, 'thema_Id': 1, 'contributor_id': 9, 'posted_at': 'photoup/20211003104459529e6153a2488867cbc55fa5ce53ea61.jpeg', 'php_point': 33.3333, 'python_point': 0.0, 'photo_table.photo_id': 139, 'thema_id': 1, 'photo_table.contributor_id': 9, 'photo_table.posted_at': 'photoup/20211003104459529e6153a2488867cbc55fa5ce53ea61.jpeg', 'come_updated_at': datetime.datetime(2021, 10, 3, 17, 44, 59), 'point': 0.0}, {'python_id': 49, 'photo_id': 140, 'thema_Id': 1, 'contributor_id': 12, 'posted_at': 'photoup/20211003104549d3fe2cd1fd49628db6e7f428fb5b05e7.jpeg', 'php_point': 0.0, 'python_point': 0.0, 'photo_table.photo_id': 140, 'thema_id': 1, 'photo_table.contributor_id': 12, 'photo_table.posted_at': 'photoup/20211003104549d3fe2cd1fd49628db6e7f428fb5b05e7.jpeg', 'come_updated_at': datetime.datetime(2021, 10, 3, 17, 45, 49), 'point': 0.0}, {'python_id': 50, 'photo_id': 141, 'thema_Id': 1, 'contributor_id': 13, 'posted_at': 'photoup/20211003104747eb992f92244350ae0f138a0d4acab5cd.jpeg', 'php_point': 0.0, 'python_point': 0.0, 'photo_table.photo_id': 141, 'thema_id': 1, 'photo_table.contributor_id': 13, 'photo_table.posted_at': 'photoup/20211003104747eb992f92244350ae0f138a0d4acab5cd.jpeg', 'come_updated_at': datetime.datetime(2021, 10, 3, 17, 47, 47), 'point': 0.0}\n",
                        "\u001b[0;31mNameError\u001b[0m: name 'datetime' is not defined"
                    ]
                }
            ],
            "source": [
                "python_table = [{'python_id': 45, 'photo_id': 136, 'thema_Id': 1, 'contributor_id': 5, 'posted_at': 'photoup/202110011927437fc57892ff46987553aa28b3b6723813.jpeg', 'php_point': 16.6667, 'python_point': 0.0, 'photo_table.photo_id': 136, 'thema_id': 1, 'photo_table.contributor_id': 5, 'photo_table.posted_at': 'photoup/202110011927437fc57892ff46987553aa28b3b6723813.jpeg', 'come_updated_at': datetime.datetime(2021, 10, 2, 2, 27, 43), 'point': 0.0}, {'python_id': 46, 'photo_id': 137, 'thema_Id': 1, 'contributor_id': 6, 'posted_at': 'photoup/2021100119324480d476c805ba358f32f3d7decc389ed4.jpeg', 'php_point': 16.6667, 'python_point': 0.0, 'photo_table.photo_id': 137, 'thema_id': 1, 'photo_table.contributor_id': 6, 'photo_table.posted_at': 'photoup/2021100119324480d476c805ba358f32f3d7decc389ed4.jpeg', 'come_updated_at': datetime.datetime(2021, 10, 2, 2, 32, 44), 'point': 0.0}, {'python_id': 47, 'photo_id': 138, 'thema_Id': 1, 'contributor_id': 25, 'posted_at': 'photoup/202110012116116f29d58fdbbc65808277be18f2c808e6.jpeg', 'php_point': 0.0, 'python_point': 0.0, 'photo_table.photo_id': 138, 'thema_id': 1, 'photo_table.contributor_id': 25, 'photo_table.posted_at': 'photoup/202110012116116f29d58fdbbc65808277be18f2c808e6.jpeg', 'come_updated_at': datetime.datetime(\n",
                "    2021, 10, 2, 4, 16, 11), 'point': 0.0}, {'python_id': 48, 'photo_id': 139, 'thema_Id': 1, 'contributor_id': 9, 'posted_at': 'photoup/20211003104459529e6153a2488867cbc55fa5ce53ea61.jpeg', 'php_point': 33.3333, 'python_point': 0.0, 'photo_table.photo_id': 139, 'thema_id': 1, 'photo_table.contributor_id': 9, 'photo_table.posted_at': 'photoup/20211003104459529e6153a2488867cbc55fa5ce53ea61.jpeg', 'come_updated_at': datetime.datetime(2021, 10, 3, 17, 44, 59), 'point': 0.0}, {'python_id': 49, 'photo_id': 140, 'thema_Id': 1, 'contributor_id': 12, 'posted_at': 'photoup/20211003104549d3fe2cd1fd49628db6e7f428fb5b05e7.jpeg', 'php_point': 0.0, 'python_point': 0.0, 'photo_table.photo_id': 140, 'thema_id': 1, 'photo_table.contributor_id': 12, 'photo_table.posted_at': 'photoup/20211003104549d3fe2cd1fd49628db6e7f428fb5b05e7.jpeg', 'come_updated_at': datetime.datetime(2021, 10, 3, 17, 45, 49), 'point': 0.0}, {'python_id': 50, 'photo_id': 141, 'thema_Id': 1, 'contributor_id': 13, 'posted_at': 'photoup/20211003104747eb992f92244350ae0f138a0d4acab5cd.jpeg', 'php_point': 0.0, 'python_point': 0.0, 'photo_table.photo_id': 141, 'thema_id': 1, 'photo_table.contributor_id': 13, 'photo_table.posted_at': 'photoup/20211003104747eb992f92244350ae0f138a0d4acab5cd.jpeg', 'come_updated_at': datetime.datetime(2021, 10, 3, 17, 47, 47), 'point': 0.0}]\n"
            ]
        },
        {
            "cell_type": "code",
            "execution_count": 2,
            "metadata": {},
            "outputs": [
                {
                    "ename": "NameError",
                    "evalue": "name 'RGB' is not defined",
                    "output_type": "error",
                    "traceback": [
                        "\u001b[0;31m---------------------------------------------------------------------------\u001b[0m",
                        "\u001b[0;31mNameError\u001b[0m                                 Traceback (most recent call last)",
                        "\u001b[0;32m<ipython-input-2-7502da799c5a>\u001b[0m in \u001b[0;36m<module>\u001b[0;34m\u001b[0m\n\u001b[0;32m----> 1\u001b[0;31m \u001b[0ma\u001b[0m \u001b[0;34m=\u001b[0m \u001b[0mRGB\u001b[0m\u001b[0;34m\u001b[0m\u001b[0;34m\u001b[0m\u001b[0m\n\u001b[0m",
                        "\u001b[0;31mNameError\u001b[0m: name 'RGB' is not defined"
                    ]
                }
            ],
            "source": [
                "a = RGB"
            ]
        },
        {
            "cell_type": "code",
            "execution_count": null,
            "metadata": {},
            "outputs": [],
            "source": []
        },
        {
            "cell_type": "code",
            "execution_count": null,
            "metadata": {},
            "outputs": [],
            "source": []
        },
        {
            "cell_type": "code",
            "execution_count": null,
            "metadata": {},
            "outputs": [],
            "source": []
        }
    ],
    "metadata": {
        "interpreter": {
            "hash": "19fe7ea3d523466f9919158a02ea47bf6482003a3cb276da9358e5185e6dece6"
        },
        "kernelspec": {
            "display_name": "Python 3.8.10 64-bit ('testpy': conda)",
            "name": "python3"
        },
        "language_info": {
            "codemirror_mode": {
                "name": "ipython",
                "version": 3
            },
            "file_extension": ".py",
            "mimetype": "text/x-python",
            "name": "python",
            "nbconvert_exporter": "python",
            "pygments_lexer": "ipython3",
            "version": "3.8.10"
        },
        "orig_nbformat": 4
    },
    "nbformat": 4,
    "nbformat_minor": 2
}
